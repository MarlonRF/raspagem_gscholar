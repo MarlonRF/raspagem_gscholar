{
  "nbformat": 4,
  "nbformat_minor": 0,
  "metadata": {
    "colab": {
      "name": "Raspagem de dados do Google Scholar .ipynb",
      "provenance": [],
      "collapsed_sections": [],
      "toc_visible": true,
      "include_colab_link": true
    },
    "kernelspec": {
      "name": "python3",
      "display_name": "Python 3"
    },
    "language_info": {
      "name": "python"
    }
  },
  "cells": [
    {
      "cell_type": "markdown",
      "metadata": {
        "id": "view-in-github",
        "colab_type": "text"
      },
      "source": [
        "<a href=\"https://colab.research.google.com/github/MarlonRF/CPGIF_Colab/blob/master/Raspagem_de_dados_do_Google_Scholar_.ipynb\" target=\"_parent\"><img src=\"https://colab.research.google.com/assets/colab-badge.svg\" alt=\"Open In Colab\"/></a>"
      ]
    },
    {
      "cell_type": "markdown",
      "metadata": {
        "id": "6W0Xl52vEeIu"
      },
      "source": [
        "# 0. Avisos, sugestões de uso\n",
        "\n",
        "* Duas opções para upload e download das informações: __Google Sheets__ ou __Excel__ (arquivo.xls). Instruções e código abaixo.\n",
        "\n",
        "* Faça upload de arquivo Excel com nome \"lista de nomes.xlsx\". Atenção ao formato .xlsx. Se realizar o upload de arquivo com outro nome ou extensão, vai ter que alterar o script.\n",
        "\n",
        "* Faça um teste com uma lista pequena, no máximo 5 nomes. \n",
        "\n",
        "\n",
        "* O uso constante e instenso do código será detectado pelo Google e existe uma boa chance do seu IP(ou da sessão COLAB) ser bloqueado pelo Google Scholar. Pelo menos temporariamente. Via browser, notará que seu acesso é liberado após uso de CAPTCHA.\n",
        "\n",
        "* Recomendo realizar a coleta com lista limitadas a 100 nomes e entre intervalos de tempo de, pelo menos, 30 minutos.\n",
        "\n",
        "    Exemplo: Tenho 230 nomes para raspagem dos dados. Criei 3 listas. Duas com 90 e uma com 50 nomes. Executei cada uma separadamente.\n",
        "\n",
        "* Caso de bloqueio as alternativas são:\n",
        "\n",
        "  * utilização de redes diferentes, e portanto IPs diferentes.\n",
        "  * Proxy, mas podem ser complicados de configurar\n",
        "  * Esperar o Google te liberar (pode levar alguns dias)\n",
        "\n",
        "Tempo de execução da busca pode variar. 80 nomes levaram em entre 30 min e 1 hora.\n",
        "\n",
        "* Vou aperfeiçoar o script ao longo do tempo, mas se houver algum bloqueio ou mudanças no layout do Google Scholar, o script pode deixar de funcionar. \n",
        "\n",
        "* Nem todos os nomes serão encontrados pelos mais variados motivos, mesmo que existam no Google Scholar (falso negativo). A dificuldade mais comum será os casos que o pesquisador usar um bem diferente no nome da lista, por exemplo: Cesare Mansueto Giulio Lattes -> César Lattes \n",
        "\n",
        "* Alguns honônimos serão coletados (falso positivo). Algorítimo de seleção por Fuzzy Match é opcional, não está sujeito a falhas. \n",
        "\n",
        "* Tenha em mente que a qualidade dos dados coletados depende muito da qualidade da busca do Google e dos dados no Scholar. \n",
        "\n",
        "\n",
        "Projeto também está no GitHub:\n",
        "https://github.com/MarlonRF/CPGIF_Colab/blob/master/Raspagem_de_dados_do_Google_Scholar_Simples.ipynb\n",
        "\n",
        "marlonresendefaria@gmail.com\n",
        "\n",
        "\n"
      ]
    },
    {
      "cell_type": "markdown",
      "metadata": {
        "id": "9euBYFUekGgD"
      },
      "source": [
        "\n",
        "# 1. Instalação de bibliotecas e carregamento de bibliotecas\n",
        "Instalação de bibliotecas que não estão ambiente do COLAB"
      ]
    },
    {
      "cell_type": "code",
      "metadata": {
        "id": "vXs1JJW_lYCG"
      },
      "source": [
        "%%capture \n",
        "# Suprime todo Output dessa célula \n",
        "!pip install scholarly # instala biblioteca no COLAB para execução\n",
        "!pip install scraperapi-sdk\n",
        "!pip install fuzzywuzzy"
      ],
      "execution_count": 5,
      "outputs": []
    },
    {
      "cell_type": "code",
      "metadata": {
        "id": "cz_jqo_Mj2a_",
        "colab": {
          "base_uri": "https://localhost:8080/",
          "height": 104
        },
        "outputId": "ce25f525-7517-4923-8dd2-c217c8f95bb3"
      },
      "source": [
        "# Bibliotecas\n",
        "from fuzzywuzzy import fuzz\n",
        "from fuzzywuzzy import process\n",
        "from scholarly import scholarly, ProxyGenerator # Faz o meio de campo com o BeautfulSoup para obter os dados no GoogleScholar \n",
        "import pandas as pd # Dataframes\n",
        "import numpy as np # Cálculos numéricos\n",
        "from scraper_api import ScraperAPIClient # Alternativa para utilizar outros Proxies \n",
        "import random # Para utilizar aleatórios\n",
        "import pickle # salva de qualquer dados Python em um arquivo.\n",
        "import matplotlib.pyplot as plt # Gráficos\n",
        "from gspread_dataframe import set_with_dataframe # importa dados do dataframe Pandas para planilha Google Sheet\n",
        "from matplotlib.pyplot import figure\n",
        "\n",
        "figure(figsize=(8, 6), dpi=80) # configuração para os aumentar tamanho dos gráficos "
      ],
      "execution_count": 6,
      "outputs": [
        {
          "output_type": "stream",
          "text": [
            "/usr/local/lib/python3.7/dist-packages/fuzzywuzzy/fuzz.py:11: UserWarning: Using slow pure-python SequenceMatcher. Install python-Levenshtein to remove this warning\n",
            "  warnings.warn('Using slow pure-python SequenceMatcher. Install python-Levenshtein to remove this warning')\n"
          ],
          "name": "stderr"
        },
        {
          "output_type": "execute_result",
          "data": {
            "text/plain": [
              "<Figure size 640x480 with 0 Axes>"
            ]
          },
          "metadata": {
            "tags": []
          },
          "execution_count": 6
        },
        {
          "output_type": "display_data",
          "data": {
            "text/plain": [
              "<Figure size 640x480 with 0 Axes>"
            ]
          },
          "metadata": {
            "tags": []
          }
        }
      ]
    },
    {
      "cell_type": "markdown",
      "metadata": {
        "id": "D048WV7lIZK1"
      },
      "source": [
        "# 2. Funções que serão utilizadas no código"
      ]
    },
    {
      "cell_type": "code",
      "metadata": {
        "id": "fXhjFeFul_B_"
      },
      "source": [
        "# Funções\n",
        "\n",
        "# Quebra o nome completo e compõe novo nome: 1º e último\n",
        "def quebrarNome(string):\n",
        "  n = string.split()\n",
        "  ultimo = len(n)-1\n",
        "  novo_n = (n[0]+' '+n[ultimo])\n",
        "  return novo_n\n",
        "\n",
        "# Histograma com linha da média e da mediana\n",
        "def histograma(x, n_bins=40,label_x='',label_y='',subtitulo='',titulo=''):\n",
        "    x = x[~np.isnan(x)]\n",
        "    figure(figsize=(8, 6), dpi=100)\n",
        "    result = plt.hist(x, bins=n_bins,\n",
        "                      color='#008080',\n",
        "                      edgecolor='#0a5c5c',\n",
        "                      alpha=0.2\n",
        "                     )\n",
        "\n",
        "    plt.axvline(x.mean(), \n",
        "                color='darkblue', \n",
        "                linestyle='dashed', \n",
        "                linewidth=1               \n",
        "               )\n",
        "\n",
        "    plt.axvline(np.median(x),\n",
        "                color='darkred', \n",
        "                linestyle='dashed', \n",
        "                linewidth=1\n",
        "               )\n",
        "\n",
        "    min_ylim, max_ylim = plt.ylim()\n",
        "\n",
        "    plt.text(x.mean()*1.1,\n",
        "             max_ylim*0.9,\n",
        "             'Média: {:.2f}'.format(x.mean()),\n",
        "             color='darkblue'\n",
        "            )\n",
        "\n",
        "    plt.text(np.median(x)*1.1,\n",
        "             max_ylim*0.8, \n",
        "             'Mediana: {:.2f}'.format(np.median(x)),\n",
        "             color='darkred'\n",
        "            )\n",
        "\n",
        "    # Titulo dos gráfico e dos eixos\n",
        "    plt.title(subtitulo)\n",
        "    plt.suptitle(titulo,fontsize=18, y=1)\n",
        "    plt.xlabel(label_x)\n",
        "    plt.ylabel(label_y)\n",
        "    plt.show\n",
        "\n",
        "def buscarNomes(lista):\n",
        "  \"\"\"Itera sob a lista de nomes\n",
        "\n",
        "  Parameters\n",
        "  ----------\n",
        "  list : lista de strings\n",
        "\n",
        "  Returns\n",
        "  -------\n",
        "  dictionary list:  Lista de dicionários com dados retornados\n",
        "  \"\"\"\n",
        "  dados=[] # lista vazia\n",
        "  #Itera sob a lista de nomes\n",
        "  # Cada busca retorna um dicionário com os dados do autor. No fim no loop, teremos um lista de dicionários, facilmente convertido em DataFrame do Pandas\n",
        "  for nome in lista:\n",
        "    busca=next(scholarly.search_author(nome),False) # 1º tenta busca pelo nome completo\n",
        "    if busca  != False:\n",
        "      autor = scholarly.fill(busca,sections=[])\n",
        "      dados.append(autor)\n",
        "      # Caso não encontre pelo nome completo, criamos um \"novo\" nome para o autor com a função quebrarNome: 1º e o último\n",
        "    elif next(scholarly.search_author(quebrarNome(nome)),False) != False:\n",
        "      autor = scholarly.fill(scholarly.fill(next(scholarly.search_author(quebrarNome(nome)),False),sections=[]))\n",
        "      dados.append(autor)\n",
        "    else: \n",
        "      pass\n",
        "  return dados\n",
        "\n",
        "# buscar nomes por tabela excel.\n",
        "def buscar_por_excel(tabela,inicial=0,final=0):\n",
        "  tabela = pd.read_excel(tabela)\n",
        "  lista = tabela.Nome\n",
        "  lista = lista[inicial:final]\n",
        "  dados_retorno = buscarNomes(lista)\n",
        "  dados_retorno = [x for x in dados_retorno if x != False] # Remove os retornos False da lista. Sem isso o Pondas não aceita entrada dos dados\n",
        "  return dados_retorno\n",
        "\n",
        "\n",
        "# Eliminas False dos dados coletaos.  \n",
        "def limparBol(df): \n",
        "  return [x for x in df if x != False]\n",
        "    \n",
        "# classe para cria objeto que usa SCRAPERAPI, uma boa ferramenta de proxy\n",
        "class ScraperAPI(ProxyGenerator):\n",
        "  def __init__(self, api_key):\n",
        "      self._api_key = api_key\n",
        "      self._client = ScraperAPIClient(api_key)\n",
        "      assert api_key is not None      \n",
        "      super(ScraperAPI, self).__init__()      \n",
        "      self._TIMEOUT = 120\n",
        "      self._session = self._client\n",
        "      self._session.proxies = {}\n",
        "      \n",
        "  def _new_session(self):\n",
        "      self.got_403 = False\n",
        "      return self._session\n",
        "  \n",
        "  def _close_session(self):\n",
        "      pass  \n",
        "    \n",
        "# achata dicionário dentro do dataframe\n",
        "def unpack(df, coluna, fillna=None):\n",
        "  ret = None\n",
        "  if fillna is None:\n",
        "      ret = pd.concat([df, pd.DataFrame((d for idx, d in df[coluna].iteritems()))], axis=1)\n",
        "      del ret[coluna]\n",
        "  else:\n",
        "      ret = pd.concat([df, pd.DataFrame((d for idx, d in df[coluna].iteritems())).fillna(fillna)], axis=1)\n",
        "      del ret[coluna]\n",
        "  return ret\n",
        "\n",
        "def tabelaProducoes(df):\n",
        "    lista_artigos=[]\n",
        "    # pandas é formado por tuplas nomeadas, então intertuples é mais rápido\n",
        "    for linha in df.itertuples():\n",
        "\n",
        "        artigos = linha.pubs\n",
        "        artigos['nome']=linha.name\n",
        "        artigos['scholar_id']=linha.scholar_id\n",
        "      \n",
        "        lista_artigos.append(artigos)\n",
        "    # concatena os dataframes de punlicações de cada pesquisador\n",
        "    df_artigos=pd.concat(lista_artigos)\n",
        "    # organiza o dataframe\n",
        "    df_artigos.sort_values('num_citations',ascending=False)\n",
        "    # descarta as colunas sem impotância\n",
        "    df_artigos = df_artigos.drop(['author_pub_id'], axis = 1)\n",
        "    # organiza as colunas de forma amigável\n",
        "    return df_artigos\n",
        "\n",
        "# verificar similaridade entre duas strings\n",
        "def Fuzzy(s1,s2):\n",
        "    \"\"\"a utiliza 4 métricas da biblioteca Fuzzywuzzy\n",
        "    Parameters\n",
        "    ----------\n",
        "    nome : s1\n",
        "        string (o)\n",
        "    \n",
        "    lista : s2\n",
        "        string\n",
        "    \n",
        "    limiar : int\n",
        "        nº inteiro - define limite de similaridade entre strings (0-100)\n",
        "    limite : int\n",
        "        limite da lista de strings similares que retorna\n",
        "        \n",
        "    Returns\n",
        "    -------\n",
        "    tuple\n",
        "        retorna uma quintupla de número cujo o último é a média dos quatro primeiros\n",
        "    \"\"\"\n",
        "    s1_n=s1.lower().strip()\n",
        "    s2_n=s2.lower().strip()\n",
        "    proporcao = fuzz.ratio(s1_n, s2_n)\n",
        "    prop_parcial = fuzz.partial_ratio(s1_n, s2_n)\n",
        "    token = fuzz.token_set_ratio(s1_n, s2_n)\n",
        "    token_ordenado=fuzz.token_sort_ratio(s1_n, s2_n)\n",
        "    media = (proporcao+ prop_parcial+ token+ token_ordenado)/4\n",
        "    return proporcao, prop_parcial, token, token_ordenado, media\n",
        "\n",
        "def verificarNome(nome,lista,limiar,limite=3):\n",
        "  \"\"\"Itera sob a lista de nomes\n",
        "\n",
        "  Parameters\n",
        "  ----------\n",
        "  nome : string\n",
        "      lista de strings\n",
        "\n",
        "  lista : list\n",
        "      lista de strings\n",
        "\n",
        "  limiar : int\n",
        "      nº inteiro - define limite de similaridade entre strings (0-100)\n",
        "  limite : int\n",
        "      limite da lista de strings similares que retorna\n",
        "      \n",
        "  Returns\n",
        "  -------\n",
        "  string list\n",
        "      Lista com as strings cuja similaridade é igual ou maior ao limiar definido\n",
        "  \"\"\"\n",
        "  lista_fuzzy=process.extract(nome, lista, limit=limite)\n",
        "  lista=[]\n",
        "  lista2=[]\n",
        "  for tupla in lista_fuzzy:\n",
        "      if tupla[1] >= limiar:\n",
        "          lista.append(tupla[0])\n",
        "          \n",
        "  #TO DO: Admito que os dois loops parecem desnecessário. Para otimizar       \n",
        "  for i in range(0,len(lista)):\n",
        "      quintupla = Fuzzy(nome,lista[i])\n",
        "      if quintupla[4]>=limiar:\n",
        "          lista2.append(i)\n",
        "  return lista2\n",
        "\n",
        "def FuzzyNNomes(nome,lista,limiar, limite=3):\n",
        "    \"\"\"Itera sob a lista de nomes\n",
        "\n",
        "    Parameters\n",
        "    ----------\n",
        "    nome : string\n",
        "        lista de strings\n",
        "    \n",
        "    lista : list\n",
        "        lista de strings\n",
        "    \n",
        "    limiar : int\n",
        "        nº inteiro - define limite de similaridade entre strings (0-100)\n",
        "        \n",
        "    limite : int\n",
        "        limite da lista de strings similares que retorna\n",
        "        \n",
        "    Returns\n",
        "    -------\n",
        "    int\n",
        "        nº de stings similares\n",
        "    \"\"\"\n",
        "    nomes=verificarNome(nome,lista,limiar,limite)\n",
        "    return len(nomes)\n",
        "\n",
        "# tranforma scholar ID em um link para profile do pesquisador\n",
        "def urlGoogleScholar(scholar_id):\n",
        "    url='https://scholar.google.com.br/citations?user='+scholar_id\n",
        "    return url\n",
        "\n",
        "#busca informções extras das publicações. Alta probabilidade de ser bloqueado!\n",
        "def infoArtigos(df):\n",
        "  \n",
        "  df['abstract']=\"\"\n",
        "  df['veiculo']=\"\"\n",
        "  df['autores']=\"\"\n",
        "  df['url_pub']=\"\"\n",
        "  df['n_autores']=\"\"\n",
        "\n",
        "  for idx,linha in df.iterrows():\n",
        "\n",
        "    search_query = scholarly.search_pubs(linha.titulo)\n",
        "    artigo=next(search_query)\n",
        "    try:\n",
        "      df.loc[idx,'abstract']=artigo['bib']['abstract']\n",
        "      df.loc[idx,'veiculo']=artigo['bib']['venue']\n",
        "      df.loc[idx,'autores']=artigo['bib']['author']\n",
        "      df.loc[idx,'url_pub']=artigo['pub_url']\n",
        "      df.loc[idx,'n_autores']=len(artigo['author_id'])\n",
        "    except:\n",
        "      pass\n",
        "  return df\n",
        "  print(\"Código da célula executado!\")"
      ],
      "execution_count": 8,
      "outputs": []
    },
    {
      "cell_type": "markdown",
      "metadata": {
        "id": "kxsXCYs7BR7E"
      },
      "source": [
        "\n",
        "# 3.1. Upload por Google Sheets\n",
        "\n",
        "\n",
        "Para usar planilhas do Google Sheet usar o código abaixo.\n",
        "Mais prático usar uma planilha na nuvem, mas o COLAB precisa de algumas permissões para o 1º acesso (por sessão) ao seu Google Drive. \n",
        "\n",
        "Se ocorrer a mensagem de erro, execute novamente a célula abaixo. As credenciais de acesso a planilha deve ser renovadas.\n",
        "\n",
        "Se decidir não usar o Google Sheet ou tiver problemas, pular essa etapa e usar o upload de xls (Excel). \n",
        "\n",
        "Clicar no link para obter o token(cadeia de caracteres) e permitir acesso do COLAB ao seu Google Drive. Copie o token para o campo aberto pela célula abaixo e aperte enter. Pronto!"
      ]
    },
    {
      "cell_type": "code",
      "metadata": {
        "colab": {
          "base_uri": "https://localhost:8080/"
        },
        "id": "lndd03zTTFVg",
        "outputId": "d5d9a90e-41f5-4473-8b32-b19af5993bcf"
      },
      "source": [
        "# Importa as bibliotecas Google Sheets\n",
        "from google.colab import auth\n",
        "auth.authenticate_user()\n",
        "import gspread\n",
        "from oauth2client.client import GoogleCredentials\n",
        "gc = gspread.authorize(GoogleCredentials.get_application_default())\n",
        "print(\"Código da célula executado!\")"
      ],
      "execution_count": 9,
      "outputs": [
        {
          "output_type": "stream",
          "text": [
            "Código da célula executado!\n"
          ],
          "name": "stdout"
        }
      ]
    },
    {
      "cell_type": "markdown",
      "metadata": {
        "id": "m7wvGaH_UKHr"
      },
      "source": [
        "Escreva na forma de string (entre aspas) o nome da planilha com a lista de nomes na primeira linha da celula abaixo. \n",
        "Exemplo:\n",
        "```python\n",
        "# Dividir lista\n",
        "nome_planilha= 'nomes de cientistas'\n",
        "```\n",
        "\n",
        "Se o acesso ao seu drive foi liberado e nome delclarado corretamente, os 5 primeiros nomes devem ser exibidos.\n",
        "Não precisa ter o caminho para o arquivo, apenas o nome"
      ]
    },
    {
      "cell_type": "code",
      "metadata": {
        "id": "_BlSHddHpbp2",
        "colab": {
          "base_uri": "https://localhost:8080/"
        },
        "outputId": "4745ec27-7490-4da3-b10e-8921c31f2b28"
      },
      "source": [
        "#### ALTERAR O NOME\n",
        "nome_planilha= 'Egressos 2000-2020' # Nome do Planilha dentro do seu Google drive\n",
        "#### ---- ####\n",
        "\n",
        "# Abre planilha do Google Sheet\n",
        "sh = gc.open(nome_planilha) # abre o arquivo Google Sheet\n",
        "planilha1 = sh.get_worksheet(0) # abre planilha especifica do arquivo\n",
        "rows = planilha1.get_all_values() # pega os valores preenchidas com algum valor das linhas da planilha\n",
        "df_nomes=pd.DataFrame.from_records(rows ) # transforma em data frame do pandas\n",
        "lista_nomes=list(df_nomes[0]) # trasforma a primeira coluna de dados em uma lista\n",
        "print(lista_nomes[:5])\n",
        "print(\"Código da célula executado!\")\n"
      ],
      "execution_count": 17,
      "outputs": [
        {
          "output_type": "stream",
          "text": [
            "['Albert Einstein', 'Stephen Hawking', 'Richard Feynman', 'Freeman Dyson', 'John S. Bell']\n",
            "Código da célula executado!\n"
          ],
          "name": "stdout"
        }
      ]
    },
    {
      "cell_type": "markdown",
      "metadata": {
        "id": "oM1OWdKKGKcC"
      },
      "source": [
        "# 3.2 Upload por xls (EXCEL)\n",
        "\n",
        "A lista de nome é a mais simples possível. Preferêncialmene nome completo. \n",
        "\n",
        "\n",
        "Clicar no 4º ícone à esquerda (Arquivos) e depois no 1º icone dos 3 que irão surgir \"Fazer Upload para armazanamento a sessão\"\n",
        "<img src='https://drive.google.com/uc?id=1sMANy4ZCFue1iSpPP0FrclXAvAMMR6Eo'></img>\n",
        "\n"
      ]
    },
    {
      "cell_type": "code",
      "metadata": {
        "id": "jq3SpQoYgtYi"
      },
      "source": [
        "#### ---- ####\n",
        "## ALTERAR O NOME ##\n",
        "nome_xls='lista de nomes.xlsx'\n",
        "#### ---- ####\n",
        "df_nomes=pd.read_excel(nome_xls,header=None)\n",
        "#### ---- ####\n",
        "\n",
        "lista_nomes=list(df_nomes[0]) # trasforma a primeira coluna de dados em uma lista\n",
        "print(lista_nomes[:5])\n",
        "print(\"Código da célula executado!\")"
      ],
      "execution_count": null,
      "outputs": []
    },
    {
      "cell_type": "markdown",
      "metadata": {
        "id": "CLnZmD8wJ4JJ"
      },
      "source": [
        "# 4. Buscar nomes no Google Scholar\n",
        "Com a lista de nomes carregada no ambiente do Python, é só excecutar a célula abaixo.\n",
        "\n",
        "Se sua lista tem mais de 100 nomes, recomendo dividí-la para não correr o risco ter o IP bloqueado.\n",
        "Exemplo:\n",
        "```python\n",
        "# Dividir lista\n",
        "lista_parte1 = lista_nomes[:50] # \n",
        "lista_parte2 = lista de nomes[51:]\n",
        "```\n",
        "A código abaixo executa efetivamente a coleta dos dados. Deve levar aproximadamente 30s a 1 min por nome. "
      ]
    },
    {
      "cell_type": "code",
      "metadata": {
        "id": "Ioaw_cHUp3R_",
        "colab": {
          "base_uri": "https://localhost:8080/"
        },
        "outputId": "f85d9160-380a-413d-dc78-43bb8963edb1"
      },
      "source": [
        "resultado=buscarNomes(lista_nomes) # realiza a busca dos nomes e retorna uma lista de dicionários do Python. \n",
        "print(\"Código da célula executado!\")"
      ],
      "execution_count": 18,
      "outputs": [
        {
          "output_type": "stream",
          "text": [
            "Código da célula executado!\n"
          ],
          "name": "stdout"
        }
      ]
    },
    {
      "cell_type": "markdown",
      "metadata": {
        "id": "sDd3Fu2cL2BH"
      },
      "source": [
        "# 5. Organização e limpeza dos dados\n",
        "\n",
        "Organiza e descarta as informações sem importância.\n",
        "O resultado ao final desta etapa serão dois dataframes: \n",
        "1. df = dados de cada pesquisador encontrado \n",
        "2. df1= dados das produções ( foi \"desempacotado\" da coluna Publications do dataframe original)"
      ]
    },
    {
      "cell_type": "code",
      "metadata": {
        "id": "OeJFcXGLxVfC",
        "colab": {
          "base_uri": "https://localhost:8080/"
        },
        "outputId": "7a2adf8c-db49-4517-95cf-b3233bce8488"
      },
      "source": [
        "df=pd.DataFrame(resultado) # LIsta de dicionários em dataframe do Pandas \n",
        "df.drop_duplicates(subset =\"scholar_id\", keep = False, inplace = True)  # Remove linhas duplicadas de acordo com scholar_id, que é unívoco\n",
        "df['url_GScholar']=df['scholar_id'].apply(urlGoogleScholar)\n",
        "df['pubs']=df['publications'].apply(pd.json_normalize) # normaliza os dados dentro da variável publications e cria nova variável\n",
        "df['n_publi']=df['pubs'].apply(len)\n",
        "print(\"Código da célula executado!\")"
      ],
      "execution_count": 19,
      "outputs": [
        {
          "output_type": "stream",
          "text": [
            "Código da célula executado!\n"
          ],
          "name": "stdout"
        }
      ]
    },
    {
      "cell_type": "markdown",
      "metadata": {
        "id": "5In0TcmuywBA"
      },
      "source": [
        "# (Opcional) Validação dos resultados com FuzzyMatch\n",
        "\n",
        "Alguns nomes que não estavam na lista original podem surgir nos resultados (falso positivo). O Google \"prefere\" retornar alguma coisa do que não retornar nada. \n",
        "\n",
        "_Exemplo: Os dados que se deseja coletar são de \"João Assis da Silva Souza\", mas o resultado foi \"João Silva Assis\", outro pesquisador._\n",
        "\n",
        "Neste caso, aplicamos uma função para verificar o nível de similaridade entre strings (métricas são diferentes das usadas pelo Google). Não irei entrar em detalhes da função, não é o objetivo.\n",
        "A função descarta linhas cujo valor \"nome\" não é considerado suficientemente similar.\n",
        "Aplicar ou não é uma escolha. Se prefere ver todos os resultados, não execute a célula abaixo."
      ]
    },
    {
      "cell_type": "code",
      "metadata": {
        "id": "yaynmxaR6srD"
      },
      "source": [
        "df['Resultado_Fuzzy'] = df['name'].apply(FuzzyNNomes,args = (lista_nomes,70,4))\n",
        "df=df[df.Resultado_Fuzzy > 0]\n",
        "df=df.drop('Resultado_Fuzzy',axis=1)\n",
        "print(\"Código da célula executado!\")"
      ],
      "execution_count": 135,
      "outputs": []
    },
    {
      "cell_type": "markdown",
      "metadata": {
        "id": "eaywKQ7D6Z0P"
      },
      "source": [
        "\n",
        "## 5.1. Separação de dados de profile e produção\n"
      ]
    },
    {
      "cell_type": "code",
      "metadata": {
        "colab": {
          "base_uri": "https://localhost:8080/"
        },
        "id": "ixerks7b6qiS",
        "outputId": "bf5c3cf9-0bb3-4dc8-e281-ea4d7c0abeeb"
      },
      "source": [
        "df1=tabelaProducoes(df)\n",
        "df = df[['url_GScholar','name','affiliation','interests','n_publi','citedby','citedby5y','hindex','hindex5y','i10index','i10index5y','scholar_id']]\n",
        "df1=df1.rename(columns={'bib.title':'titulo'})\n",
        "df1= df1[['titulo','num_citations','bib.pub_year','nome', 'scholar_id']]\n",
        "print(\"Código da célula executado!\")"
      ],
      "execution_count": 20,
      "outputs": [
        {
          "output_type": "stream",
          "text": [
            "Código da célula executado!\n"
          ],
          "name": "stdout"
        }
      ]
    },
    {
      "cell_type": "markdown",
      "metadata": {
        "id": "7ijbUGzVKskh"
      },
      "source": [
        "5.2. Resultados\n",
        "Execute as duas células abaixo para ver os resultados"
      ]
    },
    {
      "cell_type": "code",
      "metadata": {
        "colab": {
          "base_uri": "https://localhost:8080/",
          "height": 450
        },
        "id": "zW7a-OMKKlLH",
        "outputId": "43449612-60c6-45fd-a0c7-b784dbafdb69"
      },
      "source": [
        "df.head()"
      ],
      "execution_count": 21,
      "outputs": [
        {
          "output_type": "execute_result",
          "data": {
            "text/html": [
              "<div>\n",
              "<style scoped>\n",
              "    .dataframe tbody tr th:only-of-type {\n",
              "        vertical-align: middle;\n",
              "    }\n",
              "\n",
              "    .dataframe tbody tr th {\n",
              "        vertical-align: top;\n",
              "    }\n",
              "\n",
              "    .dataframe thead th {\n",
              "        text-align: right;\n",
              "    }\n",
              "</style>\n",
              "<table border=\"1\" class=\"dataframe\">\n",
              "  <thead>\n",
              "    <tr style=\"text-align: right;\">\n",
              "      <th></th>\n",
              "      <th>url_GScholar</th>\n",
              "      <th>name</th>\n",
              "      <th>affiliation</th>\n",
              "      <th>interests</th>\n",
              "      <th>n_publi</th>\n",
              "      <th>citedby</th>\n",
              "      <th>citedby5y</th>\n",
              "      <th>hindex</th>\n",
              "      <th>hindex5y</th>\n",
              "      <th>i10index</th>\n",
              "      <th>i10index5y</th>\n",
              "      <th>scholar_id</th>\n",
              "    </tr>\n",
              "  </thead>\n",
              "  <tbody>\n",
              "    <tr>\n",
              "      <th>0</th>\n",
              "      <td>https://scholar.google.com.br/citations?user=d...</td>\n",
              "      <td>Albert Einstein</td>\n",
              "      <td>Princeton University</td>\n",
              "      <td>[]</td>\n",
              "      <td>2812</td>\n",
              "      <td>276582</td>\n",
              "      <td>74990</td>\n",
              "      <td>213</td>\n",
              "      <td>117</td>\n",
              "      <td>823</td>\n",
              "      <td>465</td>\n",
              "      <td>do7frTMAAAAJ</td>\n",
              "    </tr>\n",
              "    <tr>\n",
              "      <th>1</th>\n",
              "      <td>https://scholar.google.com.br/citations?user=-...</td>\n",
              "      <td>Stephen Hawking</td>\n",
              "      <td>Professor of Physics, Cambridge University</td>\n",
              "      <td>[general relativity, unified field theory]</td>\n",
              "      <td>1021</td>\n",
              "      <td>112559</td>\n",
              "      <td>29865</td>\n",
              "      <td>128</td>\n",
              "      <td>71</td>\n",
              "      <td>383</td>\n",
              "      <td>223</td>\n",
              "      <td>-AEEg5AAAAAJ</td>\n",
              "    </tr>\n",
              "    <tr>\n",
              "      <th>2</th>\n",
              "      <td>https://scholar.google.com.br/citations?user=B...</td>\n",
              "      <td>Richard Feynman</td>\n",
              "      <td>California Institute of Technology</td>\n",
              "      <td>[quantum mechanics, quantum electrodynamics]</td>\n",
              "      <td>161</td>\n",
              "      <td>100883</td>\n",
              "      <td>23329</td>\n",
              "      <td>60</td>\n",
              "      <td>41</td>\n",
              "      <td>96</td>\n",
              "      <td>66</td>\n",
              "      <td>B7vSqZsAAAAJ</td>\n",
              "    </tr>\n",
              "    <tr>\n",
              "      <th>3</th>\n",
              "      <td>https://scholar.google.com.br/citations?user=8...</td>\n",
              "      <td>Freeman Dyson</td>\n",
              "      <td>Institute for Advanced Study in Princeton</td>\n",
              "      <td>[]</td>\n",
              "      <td>619</td>\n",
              "      <td>34401</td>\n",
              "      <td>7215</td>\n",
              "      <td>75</td>\n",
              "      <td>43</td>\n",
              "      <td>195</td>\n",
              "      <td>84</td>\n",
              "      <td>8rO77FUAAAAJ</td>\n",
              "    </tr>\n",
              "    <tr>\n",
              "      <th>4</th>\n",
              "      <td>https://scholar.google.com.br/citations?user=B...</td>\n",
              "      <td>John S. Bell</td>\n",
              "      <td>CERN</td>\n",
              "      <td>[Physics, Quantum Mechanics, Quantum Informati...</td>\n",
              "      <td>2416</td>\n",
              "      <td>166927</td>\n",
              "      <td>49758</td>\n",
              "      <td>102</td>\n",
              "      <td>53</td>\n",
              "      <td>628</td>\n",
              "      <td>246</td>\n",
              "      <td>Bd9KX0oAAAAJ</td>\n",
              "    </tr>\n",
              "  </tbody>\n",
              "</table>\n",
              "</div>"
            ],
            "text/plain": [
              "                                        url_GScholar  ...    scholar_id\n",
              "0  https://scholar.google.com.br/citations?user=d...  ...  do7frTMAAAAJ\n",
              "1  https://scholar.google.com.br/citations?user=-...  ...  -AEEg5AAAAAJ\n",
              "2  https://scholar.google.com.br/citations?user=B...  ...  B7vSqZsAAAAJ\n",
              "3  https://scholar.google.com.br/citations?user=8...  ...  8rO77FUAAAAJ\n",
              "4  https://scholar.google.com.br/citations?user=B...  ...  Bd9KX0oAAAAJ\n",
              "\n",
              "[5 rows x 12 columns]"
            ]
          },
          "metadata": {
            "tags": []
          },
          "execution_count": 21
        }
      ]
    },
    {
      "cell_type": "code",
      "metadata": {
        "colab": {
          "base_uri": "https://localhost:8080/",
          "height": 196
        },
        "id": "q2m0roqSKpZo",
        "outputId": "108af179-71b7-4358-810a-e2f6b2013602"
      },
      "source": [
        "df1.head()"
      ],
      "execution_count": 22,
      "outputs": [
        {
          "output_type": "execute_result",
          "data": {
            "text/html": [
              "<div>\n",
              "<style scoped>\n",
              "    .dataframe tbody tr th:only-of-type {\n",
              "        vertical-align: middle;\n",
              "    }\n",
              "\n",
              "    .dataframe tbody tr th {\n",
              "        vertical-align: top;\n",
              "    }\n",
              "\n",
              "    .dataframe thead th {\n",
              "        text-align: right;\n",
              "    }\n",
              "</style>\n",
              "<table border=\"1\" class=\"dataframe\">\n",
              "  <thead>\n",
              "    <tr style=\"text-align: right;\">\n",
              "      <th></th>\n",
              "      <th>titulo</th>\n",
              "      <th>num_citations</th>\n",
              "      <th>bib.pub_year</th>\n",
              "      <th>nome</th>\n",
              "      <th>scholar_id</th>\n",
              "    </tr>\n",
              "  </thead>\n",
              "  <tbody>\n",
              "    <tr>\n",
              "      <th>0</th>\n",
              "      <td>Can quantum-mechanical description of physical...</td>\n",
              "      <td>20056</td>\n",
              "      <td>1935</td>\n",
              "      <td>Albert Einstein</td>\n",
              "      <td>do7frTMAAAAJ</td>\n",
              "    </tr>\n",
              "    <tr>\n",
              "      <th>1</th>\n",
              "      <td>Optical processes in semiconductors</td>\n",
              "      <td>9419</td>\n",
              "      <td>1975</td>\n",
              "      <td>Albert Einstein</td>\n",
              "      <td>do7frTMAAAAJ</td>\n",
              "    </tr>\n",
              "    <tr>\n",
              "      <th>2</th>\n",
              "      <td>New diagnostic criteria for multiple sclerosis...</td>\n",
              "      <td>9106</td>\n",
              "      <td>1983</td>\n",
              "      <td>Albert Einstein</td>\n",
              "      <td>do7frTMAAAAJ</td>\n",
              "    </tr>\n",
              "    <tr>\n",
              "      <th>3</th>\n",
              "      <td>Über die von der molekularkinetischen Theorie ...</td>\n",
              "      <td>8798</td>\n",
              "      <td>1905</td>\n",
              "      <td>Albert Einstein</td>\n",
              "      <td>do7frTMAAAAJ</td>\n",
              "    </tr>\n",
              "    <tr>\n",
              "      <th>4</th>\n",
              "      <td>Mechanical vibrations</td>\n",
              "      <td>7258</td>\n",
              "      <td>1985</td>\n",
              "      <td>Albert Einstein</td>\n",
              "      <td>do7frTMAAAAJ</td>\n",
              "    </tr>\n",
              "  </tbody>\n",
              "</table>\n",
              "</div>"
            ],
            "text/plain": [
              "                                              titulo  ...    scholar_id\n",
              "0  Can quantum-mechanical description of physical...  ...  do7frTMAAAAJ\n",
              "1                Optical processes in semiconductors  ...  do7frTMAAAAJ\n",
              "2  New diagnostic criteria for multiple sclerosis...  ...  do7frTMAAAAJ\n",
              "3  Über die von der molekularkinetischen Theorie ...  ...  do7frTMAAAAJ\n",
              "4                              Mechanical vibrations  ...  do7frTMAAAAJ\n",
              "\n",
              "[5 rows x 5 columns]"
            ]
          },
          "metadata": {
            "tags": []
          },
          "execution_count": 22
        }
      ]
    },
    {
      "cell_type": "markdown",
      "metadata": {
        "id": "zkKWZk9zrMJa"
      },
      "source": [
        "# 6. (Opcional) Buscar dados detalhados das produções intelectuais\n",
        "\n",
        "Com dos dados obtidos na busca de nomes, o código abaixo busca informações adicionais das produções: nº de autores, nome do veiculo de comunicação, e url da produção.\n",
        "\n",
        "Tenha em mente que as chances de ser bloqueado com essa parte são grandes.\n",
        "O código abaixo estebele alguns critérios para buscar essas informações, como buscar apenas por produções com pelo menos 1 ou mais citações. Assim diminiuimos o número de buscar.\n",
        "\n",
        "Se não desejar correr esse risco, pule essa etapa."
      ]
    },
    {
      "cell_type": "code",
      "metadata": {
        "id": "ndRH-SARsOBa"
      },
      "source": [
        "df2.rename(columns={'bib.title': 'titulo'}, inplace=True)\n",
        "# cria um novo dataframe com as informações extras dos artigos. Deve levar um bom tempo para terminar a execução"
      ],
      "execution_count": null,
      "outputs": []
    },
    {
      "cell_type": "code",
      "metadata": {
        "id": "LKpdv9U2erFE"
      },
      "source": [
        "# cria um novo dataframe com as informações extras dos artigos. Deve levar um bom tempo para terminar a execução\n"
      ],
      "execution_count": null,
      "outputs": []
    },
    {
      "cell_type": "markdown",
      "metadata": {
        "id": "i4rfswjdMpcG"
      },
      "source": [
        "# 7. GOOGLE SHEET - Salvar os resultado no Google Sheet"
      ]
    },
    {
      "cell_type": "code",
      "metadata": {
        "id": "rsGYEP5OOU3u",
        "colab": {
          "base_uri": "https://localhost:8080/"
        },
        "outputId": "c9d6398f-1326-4cab-8f5d-5dac48043b3f"
      },
      "source": [
        "planilha = sh.add_worksheet(title=\"Tabela de pesquisadores\",rows=\"1\", cols=\"1\") # Cria uma planilha dentro no nosso arquivo Google Sheet\n",
        "set_with_dataframe(planilha, df) # Copia os dados de raspagem para dentro nova planilha\n",
        "planilha2 = sh.add_worksheet(title=\"Tabela de producoes\",rows=\"1\", cols=\"1\") # Cria uma planilha dentro no nosso arquivo Google Sheet\n",
        "set_with_dataframe(planilha2, df1) # Copia os dados de raspagem para dentro nova planilha\n",
        "if 'df2' in locals():\n",
        "  planilha2 = sh.add_worksheet(title=\"Tabela de producoes_extra\",rows=\"1\", cols=\"1\") # Cria uma planilha dentro no nosso arquivo Google Sheet\n",
        "  set_with_dataframe(planilha2, df2) # Copia os dados de raspagem para dentro nova planilha \n",
        "print(\"Código da célula executado!\")"
      ],
      "execution_count": 23,
      "outputs": [
        {
          "output_type": "stream",
          "text": [
            "Código da célula executado!\n"
          ],
          "name": "stdout"
        }
      ]
    },
    {
      "cell_type": "markdown",
      "metadata": {
        "id": "gDvulrMIMtvj"
      },
      "source": [
        "# 7. EXCEL - Salvar Resltados em arquivo .xlsx \n"
      ]
    },
    {
      "cell_type": "code",
      "metadata": {
        "id": "rf6_hMl8Wzuj"
      },
      "source": [
        "\n",
        "df.to_excel(nome_xls, sheet_name='Tabela de pesquisadores', index = False)\n",
        "df1.to_excel(nome_xls, sheet_name='Tabela de produções', index = False)\n",
        "if 'df2' in locals():\n",
        "  df2.to_excel(nome_xls, sheet_name='Tabela de prod_detalhada', index = False)"
      ],
      "execution_count": null,
      "outputs": []
    },
    {
      "cell_type": "markdown",
      "metadata": {
        "id": "BqZq8chY9qW2"
      },
      "source": [
        "# 8. Histogramas\n",
        "\n",
        "Exibe histogramas dos valores, tranformados por $log_{10}$,  de:\n",
        "* hindex,\n",
        "* h5-index (últimos cinco anos), \n",
        "* nº citações,\n",
        "* nº citações dos últimos 5 anos."
      ]
    },
    {
      "cell_type": "code",
      "metadata": {
        "colab": {
          "base_uri": "https://localhost:8080/",
          "height": 743
        },
        "id": "vS-ji7RXg9ER",
        "outputId": "ae1a5d14-989b-4249-90be-fe365c4d12c1"
      },
      "source": [
        "x=df.hindex.astype(int)\n",
        "\n",
        "x=np.log10(x+1)\n",
        "titulo='Histograma do h-index'\n",
        "eixo_x='$Log_{10}$(nº h-index +1)'\n",
        "eixo_y='Contagem'\n",
        "\n",
        "histograma(x,20,eixo_x,eixo_y,titulo)\n",
        "serie=pd.Series(x)\n",
        "percentis =[.20, .40, .60, .80]\n",
        "serie.describe(percentiles = percentis)"
      ],
      "execution_count": 29,
      "outputs": [
        {
          "output_type": "execute_result",
          "data": {
            "text/plain": [
              "count    6.000000\n",
              "mean     2.014745\n",
              "std      0.190550\n",
              "min      1.785330\n",
              "20%      1.880814\n",
              "40%      1.968483\n",
              "50%      1.990660\n",
              "60%      2.012837\n",
              "80%      2.110590\n",
              "max      2.330414\n",
              "Name: hindex, dtype: float64"
            ]
          },
          "metadata": {
            "tags": []
          },
          "execution_count": 29
        },
        {
          "output_type": "display_data",
          "data": {
            "image/png": "[encoded data removed]",
            "text/plain": [
              "<Figure size 800x600 with 1 Axes>"
            ]
          },
          "metadata": {
            "tags": [],
            "needs_background": "light"
          }
        }
      ]
    },
    {
      "cell_type": "code",
      "metadata": {
        "colab": {
          "base_uri": "https://localhost:8080/",
          "height": 745
        },
        "id": "9m3bAUMsEAPq",
        "outputId": "b01304b5-db3a-49b1-f89c-d2040771de04"
      },
      "source": [
        "x=df.hindex5y.astype(int)\n",
        "\n",
        "x=np.log10(x+1)\n",
        "titulo='Histograma do h-index dos últimos 5 anos'\n",
        "eixo_x='$Log_{10}$(nº h-index dos últimos 5 anos +1)'\n",
        "eixo_y='Contagem'\n",
        "\n",
        "histograma(x,20,eixo_x,eixo_y,titulo)\n",
        "serie=pd.Series(x)\n",
        "percentis =[.20, .40, .60, .80]\n",
        "serie.describe(percentiles = percentis)"
      ],
      "execution_count": 26,
      "outputs": [
        {
          "output_type": "execute_result",
          "data": {
            "text/plain": [
              "count    6.000000\n",
              "mean     1.779416\n",
              "std      0.165932\n",
              "min      1.623249\n",
              "20%      1.643453\n",
              "40%      1.732394\n",
              "50%      1.740291\n",
              "60%      1.748188\n",
              "80%      1.857332\n",
              "max      2.071882\n",
              "Name: hindex5y, dtype: float64"
            ]
          },
          "metadata": {
            "tags": []
          },
          "execution_count": 26
        },
        {
          "output_type": "display_data",
          "data": {
            "image/png": "[encoded data removed]",
            "text/plain": [
              "<Figure size 800x600 with 1 Axes>"
            ]
          },
          "metadata": {
            "tags": [],
            "needs_background": "light"
          }
        }
      ]
    },
    {
      "cell_type": "code",
      "metadata": {
        "colab": {
          "base_uri": "https://localhost:8080/",
          "height": 743
        },
        "id": "wf4mTaOeEEOn",
        "outputId": "f07bb4c7-4237-416a-cd28-8406bf5894ef"
      },
      "source": [
        "x=df.citedby.astype(int)\n",
        "\n",
        "x=np.log10(x+1)\n",
        "titulo='Histograma do total de citações'\n",
        "eixo_x='$Log_{10}$(nº citações+1)'\n",
        "eixo_y='Contagem'\n",
        "\n",
        "histograma(x,20,eixo_x,eixo_y,titulo)\n",
        "serie=pd.Series(x)\n",
        "percentis =[.20, .40, .60, .80]\n",
        "serie.describe(percentiles = percentis)"
      ],
      "execution_count": 30,
      "outputs": [
        {
          "output_type": "execute_result",
          "data": {
            "text/plain": [
              "count    6.000000\n",
              "mean     5.083680\n",
              "std      0.310035\n",
              "min      4.536584\n",
              "20%      5.003822\n",
              "40%      5.051384\n",
              "50%      5.136957\n",
              "60%      5.222529\n",
              "80%      5.245934\n",
              "max      5.441825\n",
              "Name: citedby, dtype: float64"
            ]
          },
          "metadata": {
            "tags": []
          },
          "execution_count": 30
        },
        {
          "output_type": "display_data",
          "data": {
            "image/png": "[encoded data removed]",
            "text/plain": [
              "<Figure size 800x600 with 1 Axes>"
            ]
          },
          "metadata": {
            "tags": [],
            "needs_background": "light"
          }
        }
      ]
    },
    {
      "cell_type": "code",
      "metadata": {
        "colab": {
          "base_uri": "https://localhost:8080/",
          "height": 745
        },
        "id": "LbItaY-oLMPG",
        "outputId": "c85d4d99-c3cd-4e09-ebac-a1e5d18e1296"
      },
      "source": [
        "x=df.citedby.astype(int)\n",
        "\n",
        "x=np.log10(x+1)\n",
        "titulo='Histograma do total de citações dos últimos 5 anos'\n",
        "eixo_x='$Log_{10}$(nº citações dos últimos 5 anos +1)'\n",
        "eixo_y='Contagem'\n",
        "\n",
        "histograma(x,20,eixo_x,eixo_y,titulo)\n",
        "serie=pd.Series(x)\n",
        "percentis =[.20, .40, .60, .80]\n",
        "serie.describe(percentiles = percentis)"
      ],
      "execution_count": 28,
      "outputs": [
        {
          "output_type": "execute_result",
          "data": {
            "text/plain": [
              "count    6.000000\n",
              "mean     4.488247\n",
              "std      0.355756\n",
              "min      3.858297\n",
              "20%      4.367915\n",
              "40%      4.475177\n",
              "50%      4.565695\n",
              "60%      4.656213\n",
              "80%      4.696872\n",
              "max      4.875009\n",
              "Name: citedby5y, dtype: float64"
            ]
          },
          "metadata": {
            "tags": []
          },
          "execution_count": 28
        },
        {
          "output_type": "display_data",
          "data": {
            "image/png": "[encoded data removed]",
            "text/plain": [
              "<Figure size 800x600 with 1 Axes>"
            ]
          },
          "metadata": {
            "tags": [],
            "needs_background": "light"
          }
        }
      ]
    },
    {
      "cell_type": "markdown",
      "metadata": {
        "id": "Jy7sDiOcmIjf"
      },
      "source": [
        "# Bibliografia\n",
        "\n",
        "https://stackoverflow.com/questions/62917910/python-export-pandas-dataframe-to-google-sheets-solved\n",
        "\n",
        "https://towardsdatascience.com/10-tips-for-a-better-google-colab-experience-33f8fe721b82#c6c5\n",
        "\n",
        "ttps://medium.com/analytics-vidhya/embedding-your-image-in-google-colab-markdown-3998d5ac2684"
      ]
    }
  ]
}