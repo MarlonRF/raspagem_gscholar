{
  "nbformat": 4,
  "nbformat_minor": 0,
  "metadata": {
    "colab": {
      "name": "EUF.ipynb",
      "provenance": [],
      "collapsed_sections": [
        "EM0ed6iTfoaw"
      ],
      "toc_visible": true,
      "authorship_tag": "ABX9TyN+P47egscYIjP7Hz3SOot3",
      "include_colab_link": true
    },
    "kernelspec": {
      "name": "python3",
      "display_name": "Python 3"
    }
  },
  "cells": [
    {
      "cell_type": "markdown",
      "metadata": {
        "id": "view-in-github",
        "colab_type": "text"
      },
      "source": [
        "<a href=\"https://colab.research.google.com/github/MarlonRF/CPGIF_Colab/blob/master/EUF.ipynb\" target=\"_parent\"><img src=\"https://colab.research.google.com/assets/colab-badge.svg\" alt=\"Open In Colab\"/></a>"
      ]
    },
    {
      "cell_type": "markdown",
      "metadata": {
        "id": "exdz1v1DidNt",
        "colab_type": "text"
      },
      "source": [
        "# Procedimentos\n",
        "Vou estabelecer a regra que o conjunto de dados ficarão em apenas um arquivo (workbook|pasta) e separados por edição|semestre ficaram em planilhas separadas no mesmo arquivo. \n",
        "\n",
        "**Exemplo:** \n",
        "* Arquivo: Notas do EUF \n",
        "* Planilhas: 2020-1, 2019-2, etc (edições)\n",
        "\n",
        "Referencias das edições é sempre da realização do evento, não o semestre alvo.\n",
        "\n",
        "As inscrições para ingresso em 2020-2 acontecem em 2020-1, portanto, os dados serão agrupados como \"2020-1\"\n"
      ]
    },
    {
      "cell_type": "code",
      "metadata": {
        "id": "oPqrnD6E9n5F",
        "colab_type": "code",
        "colab": {
          "base_uri": "https://localhost:8080/",
          "height": 283
        },
        "outputId": "6c54e354-27b8-4177-be2e-197784e829c8"
      },
      "source": [
        "'''-  BIBLIOTECAS NÃO NATIVAS - PRECISAM VER INSTALADAS VIA !pip -'''\n",
        "\n",
        "!pip install fuzzywuzzy\n",
        "!pip install python-Levenshtein #requisito, deixa fuzzy mais rapido"
      ],
      "execution_count": null,
      "outputs": [
        {
          "output_type": "stream",
          "text": [
            "Collecting fuzzywuzzy\n",
            "  Downloading https://files.pythonhosted.org/packages/43/ff/74f23998ad2f93b945c0309f825be92e04e0348e062026998b5eefef4c33/fuzzywuzzy-0.18.0-py2.py3-none-any.whl\n",
            "Installing collected packages: fuzzywuzzy\n",
            "Successfully installed fuzzywuzzy-0.18.0\n",
            "Collecting python-Levenshtein\n",
            "\u001b[?25l  Downloading https://files.pythonhosted.org/packages/42/a9/d1785c85ebf9b7dfacd08938dd028209c34a0ea3b1bcdb895208bd40a67d/python-Levenshtein-0.12.0.tar.gz (48kB)\n",
            "\u001b[K     |████████████████████████████████| 51kB 2.4MB/s \n",
            "\u001b[?25hRequirement already satisfied: setuptools in /usr/local/lib/python3.6/dist-packages (from python-Levenshtein) (47.3.1)\n",
            "Building wheels for collected packages: python-Levenshtein\n",
            "  Building wheel for python-Levenshtein (setup.py) ... \u001b[?25l\u001b[?25hdone\n",
            "  Created wheel for python-Levenshtein: filename=python_Levenshtein-0.12.0-cp36-cp36m-linux_x86_64.whl size=144796 sha256=0c1530f0bf29b32600dda391a1d8a3758197894dce4f17a341dd490867a48f2e\n",
            "  Stored in directory: /root/.cache/pip/wheels/de/c2/93/660fd5f7559049268ad2dc6d81c4e39e9e36518766eaf7e342\n",
            "Successfully built python-Levenshtein\n",
            "Installing collected packages: python-Levenshtein\n",
            "Successfully installed python-Levenshtein-0.12.0\n"
          ],
          "name": "stdout"
        }
      ]
    },
    {
      "cell_type": "code",
      "metadata": {
        "id": "amrYxJdVCeUd",
        "colab_type": "code",
        "colab": {
          "base_uri": "https://localhost:8080/",
          "height": 70
        },
        "outputId": "15fa8bbb-a070-4e9e-cdb7-02d7ea0375f3"
      },
      "source": [
        "  !curl -s https://github.com/MarlonRF/CPGIF_Colab.git | bash\n"
      ],
      "execution_count": 17,
      "outputs": [
        {
          "output_type": "stream",
          "text": [
            "bash: line 1: html: No such file or directory\n",
            "bash: line 2: syntax error near unexpected token `<'\n",
            "bash: line 2: `<head><title>301 Moved Permanently</title></head>\r'\n"
          ],
          "name": "stdout"
        }
      ]
    },
    {
      "cell_type": "code",
      "metadata": {
        "id": "HNhGYyiadvWK",
        "colab_type": "code",
        "colab": {}
      },
      "source": [
        "'''\n",
        "BIBLIOTECAS\n",
        "-----------\n",
        "'''\n",
        "\n",
        "from fuzzywuzzy import fuzz\n",
        "from fuzzywuzzy import process\n",
        "from google.colab import auth\n",
        "import pandas as pd\n",
        "import matplotlib.pyplot as plt\n",
        "import re\n",
        "\n",
        "'''\n",
        "Para acesso ao GOOGLE DOCS\n",
        "--------------------------\n",
        "Vai solicitar autenticação via token toda vez que for executado\n",
        "\n",
        "'''\n",
        "auth.authenticate_user()\n",
        "import gspread\n",
        "from oauth2client.client import GoogleCredentials\n",
        "gc = gspread.authorize(GoogleCredentials.get_application_default())\n",
        "import unicodedata\n",
        "\n",
        "'''\n",
        "ACESSO AO GOOGLE DRIVE\n",
        "--------------------------\n",
        "Vai solicitar autenticação via token toda vez que for executado\n",
        "\n",
        "'''\n",
        "\n",
        "# Abre o roda o Gdrive - Dá pra fazer pela barra lateral\n",
        "from google.colab import drive\n"
      ],
      "execution_count": null,
      "outputs": []
    },
    {
      "cell_type": "code",
      "metadata": {
        "id": "TCjK_7QfgQBS",
        "colab_type": "code",
        "colab": {}
      },
      "source": [
        "'''\n",
        "FUNÇÕES\n",
        "-------\n",
        "'''\n",
        "\n",
        "def PrimLinhaCab(df):\n",
        "  df.columns = df.iloc[0]\n",
        "  df=df[1:]\n",
        "  return df\n",
        "  \n",
        "def RemoveAcentos(s):\n",
        "   return ''.join(c for c in unicodedata.normalize('NFD', s)\n",
        "                  if unicodedata.category(c) != 'Mn')\n",
        "\n",
        "def ProcuraFuzzy(nome,serie):\n",
        "  nome=str(nome)\n",
        "  lista=list(serie)\n",
        "  estrato=process.extractOne(nome,lista)\n",
        "  nome=estrato[0]\n",
        "  coef=estrato[1]\n",
        "  posição=nome[2]\n",
        "  return nome,coef,posição\n",
        "\n",
        "def LimparNumeros(df):\n",
        "  heads=df.columns.tolist()\n",
        "  for head in heads:\n",
        "    df[head]=df[head].str.replace(',', '.')\n",
        "    df[head]=df[head].str.replace('%', '')\n",
        "  return df  \n",
        "\n",
        "def Emfloat(df,heads_s):\n",
        "  heads=df.columns.tolist()\n",
        "  head_n_str=[item for item in heads if item not in heads_s]\n",
        "  dicio={}\n",
        "\n",
        "  for head in head_n_str:\n",
        "    dicio[head]=df[head].astype(float)\n",
        "  return df\n",
        "\n",
        "def RetornaDFS(nomes_planilhas,path):\n",
        "  dfs = {}\n",
        "\n",
        "  for planilha in nomes_planilhas:\n",
        "    df_nome=planilha.replace(' ','_') # retira espaços\n",
        "    df_nome=df_nome.replace('.','')#retira o ponto no final\n",
        "    df_nome=df_nome.replace('-','_')#retira o ponto no final\n",
        "    df_nome='df_'+df_nome\n",
        "    dfs[df_nome] = pd.read_excel(path, sheet_name=planilha)\n",
        "\n",
        "  return dfs\n",
        "\n",
        "def LerExcel(path):\n",
        "  xls = pd.ExcelFile(path) #abre o arquivo com todas as planilhas\n",
        "  nomes_planilhas = xls.sheet_names # Uma lista das planilhas\n",
        "  return nomes_planilhas"
      ],
      "execution_count": null,
      "outputs": []
    },
    {
      "cell_type": "code",
      "metadata": {
        "id": "BJSOmkpC1vvs",
        "colab_type": "code",
        "colab": {
          "base_uri": "https://localhost:8080/",
          "height": 214
        },
        "outputId": "56bb333a-e3c9-480a-90d4-0898a287cb1c"
      },
      "source": [
        "# Vai solicitar autenticação via token toda vez que for executado\n",
        "drive.mount('/content/drive/') # Monta o drive\n",
        "!ls \"/content/drive/My Drive/Dados\" # Lista os arquivos da pasta"
      ],
      "execution_count": null,
      "outputs": [
        {
          "output_type": "stream",
          "text": [
            "Go to this URL in a browser: https://accounts.google.com/o/oauth2/auth?client_id=947318989803-6bn6qk8qdgf4n4g3pfee6491hc0brc4i.apps.googleusercontent.com&redirect_uri=urn%3aietf%3awg%3aoauth%3a2.0%3aoob&response_type=code&scope=email%20https%3a%2f%2fwww.googleapis.com%2fauth%2fdocs.test%20https%3a%2f%2fwww.googleapis.com%2fauth%2fdrive%20https%3a%2f%2fwww.googleapis.com%2fauth%2fdrive.photos.readonly%20https%3a%2f%2fwww.googleapis.com%2fauth%2fpeopleapi.readonly\n",
            "\n",
            "Enter your authorization code:\n",
            "··········\n",
            "Mounted at /content/drive/\n",
            "'dados FAPESP (26_05_2020).xlsx'\t   'Inscritos no EUF 2020-1.gsheet'\n",
            "'Histórico de Inscritos 2012-2020.gsheet'  'Notas EUF.gsheet'\n",
            "'Histórico de Inscritos 2012-2020.xlsx'    'Notas EUF.xlsx'\n",
            "'Inscritos na Pós.gsheet'\t\t    resultado.xlsx\n",
            "'Inscritos na Pós.xlsx'\t\t\t    Teste.ipynb\n"
          ],
          "name": "stdout"
        }
      ]
    },
    {
      "cell_type": "code",
      "metadata": {
        "id": "3RkrkEmVDXvr",
        "colab_type": "code",
        "colab": {}
      },
      "source": [
        "path1 = '/content/drive/My Drive/Dados/Notas EUF.xlsx' # Caminho do arquivo\n",
        "path2 = '/content/drive/My Drive/Dados/Inscritos na Pós.xlsx' # Caminho do arquivo"
      ],
      "execution_count": null,
      "outputs": []
    },
    {
      "cell_type": "code",
      "metadata": {
        "id": "7mii-3gDvLVp",
        "colab_type": "code",
        "colab": {}
      },
      "source": [
        "path ='/content/drive/My Drive/Dados/'\n",
        "arq = ['Notas EUF.xlsx', 'Inscritos na Pós.xlsx']\n",
        "#dfs = {p: pd.read_csv(p) if p.endswith('.csv') else pd.read_excel(p) for p in ps}"
      ],
      "execution_count": null,
      "outputs": []
    },
    {
      "cell_type": "code",
      "metadata": {
        "id": "HFLjI7XQD4v1",
        "colab_type": "code",
        "colab": {}
      },
      "source": [
        "nomes_planilhas=LerExcel(path1)\n",
        "EUF_notas=RetornaDFS(nomes_planilhas,path1)\n",
        "locals().update(EUF_notas) # tranforma dicionário em variável\n",
        "\n",
        "nomes_planilhas2=LerExcel(path2)\n",
        "Inscritos=RetornaDFS(nomes_planilhas2,path2)\n",
        "locals().update(Inscritos)"
      ],
      "execution_count": null,
      "outputs": []
    },
    {
      "cell_type": "code",
      "metadata": {
        "id": "_3uLn0y89M3w",
        "colab_type": "code",
        "colab": {
          "base_uri": "https://localhost:8080/",
          "height": 105
        },
        "outputId": "1ffb23b1-d027-4cc6-90e1-6b20ca92e874"
      },
      "source": [
        "#reset -f # Limpra variaveis\n",
        "#dir() # will give you the list of in scope variables:\n",
        "#globals() # will give you a dictionary of global variables\n",
        "#locals() # will give you a dictionary of local variables\n",
        "%whos DataFrame"
      ],
      "execution_count": null,
      "outputs": [
        {
          "output_type": "stream",
          "text": [
            "Variable            Type         Data/Info\n",
            "------------------------------------------\n",
            "df_2020_1           DataFrame                             <...>n\\n[62 rows x 14 columns]\n",
            "df_EUF_2020_1       DataFrame             EUF CODE        <...>\\n[722 rows x 19 columns]\n",
            "df_Ins_EUF_2020_1   DataFrame                             <...>\\n[952 rows x 33 columns]\n"
          ],
          "name": "stdout"
        }
      ]
    },
    {
      "cell_type": "code",
      "metadata": {
        "id": "-IQ60Sn1ya8P",
        "colab_type": "code",
        "colab": {
          "base_uri": "https://localhost:8080/",
          "height": 773
        },
        "outputId": "916aa0c4-2918-481b-a019-b1fc80ffc58b"
      },
      "source": [
        "df_2020_1"
      ],
      "execution_count": null,
      "outputs": [
        {
          "output_type": "execute_result",
          "data": {
            "text/html": [
              "<div>\n",
              "<style scoped>\n",
              "    .dataframe tbody tr th:only-of-type {\n",
              "        vertical-align: middle;\n",
              "    }\n",
              "\n",
              "    .dataframe tbody tr th {\n",
              "        vertical-align: top;\n",
              "    }\n",
              "\n",
              "    .dataframe thead th {\n",
              "        text-align: right;\n",
              "    }\n",
              "</style>\n",
              "<table border=\"1\" class=\"dataframe\">\n",
              "  <thead>\n",
              "    <tr style=\"text-align: right;\">\n",
              "      <th></th>\n",
              "      <th>Nome</th>\n",
              "      <th>curso no qual o candidato está se inscrevendo</th>\n",
              "      <th>Número de Inscrição</th>\n",
              "      <th>Instituição de onde vem</th>\n",
              "      <th>Email</th>\n",
              "      <th>Declaro que</th>\n",
              "      <th>Selecione o EUF cuja nota você pretende utilizar para ingresso</th>\n",
              "      <th>Nota antiga do Exame EUF</th>\n",
              "      <th>Orientador Informado</th>\n",
              "      <th>Tem carta de aceite?</th>\n",
              "      <th>Orientador Credenciado?</th>\n",
              "      <th>Estará credenciado na data de matrícula?</th>\n",
              "      <th>Observações</th>\n",
              "      <th>Data de Envio</th>\n",
              "    </tr>\n",
              "  </thead>\n",
              "  <tbody>\n",
              "    <tr>\n",
              "      <th>0</th>\n",
              "      <td>Yuri Dias França</td>\n",
              "      <td>inscricaomd</td>\n",
              "      <td>7986</td>\n",
              "      <td>UFRJ</td>\n",
              "      <td>yuridiasf@gmail.com</td>\n",
              "      <td>Desejo concorrer à Bolsa</td>\n",
              "      <td>NaN</td>\n",
              "      <td>NaN</td>\n",
              "      <td>NaN</td>\n",
              "      <td>Nao</td>\n",
              "      <td>NaN</td>\n",
              "      <td>NaN</td>\n",
              "      <td>Aluno afirmou ter dissertação já pronta; desej...</td>\n",
              "      <td>22/06/2020 - 00:01</td>\n",
              "    </tr>\n",
              "    <tr>\n",
              "      <th>1</th>\n",
              "      <td>Gabriel Goulart Dimas</td>\n",
              "      <td>inscricaomd</td>\n",
              "      <td>7985</td>\n",
              "      <td>UFF</td>\n",
              "      <td>gabrielgd@id.uff.br</td>\n",
              "      <td>Desejo concorrer à Bolsa</td>\n",
              "      <td>NaN</td>\n",
              "      <td>NaN</td>\n",
              "      <td>NaN</td>\n",
              "      <td>Nao</td>\n",
              "      <td>NaN</td>\n",
              "      <td>NaN</td>\n",
              "      <td>Não ficou claro quando cola grau.</td>\n",
              "      <td>21/06/2020 - 23:55</td>\n",
              "    </tr>\n",
              "    <tr>\n",
              "      <th>2</th>\n",
              "      <td>Wellington Luiz dos Santos Araujo</td>\n",
              "      <td>incricaodr</td>\n",
              "      <td>7983</td>\n",
              "      <td>UFMA</td>\n",
              "      <td>wellingtonluiztj@gmail.com</td>\n",
              "      <td>Desejo concorrer à Bolsa</td>\n",
              "      <td>NaN</td>\n",
              "      <td>NaN</td>\n",
              "      <td>NaN</td>\n",
              "      <td>Nao</td>\n",
              "      <td>NaN</td>\n",
              "      <td>NaN</td>\n",
              "      <td>NaN</td>\n",
              "      <td>21/06/2020 - 23:08</td>\n",
              "    </tr>\n",
              "    <tr>\n",
              "      <th>3</th>\n",
              "      <td>Marcos Vinicius de Moraes</td>\n",
              "      <td>incricaodr</td>\n",
              "      <td>7982</td>\n",
              "      <td>UEM</td>\n",
              "      <td>marcos_moraes_1997@hotmail.com</td>\n",
              "      <td>Desejo concorrer à Bolsa</td>\n",
              "      <td>NaN</td>\n",
              "      <td>NaN</td>\n",
              "      <td>NaN</td>\n",
              "      <td>Nao</td>\n",
              "      <td>NaN</td>\n",
              "      <td>NaN</td>\n",
              "      <td>NaN</td>\n",
              "      <td>21/06/2020 - 23:03</td>\n",
              "    </tr>\n",
              "    <tr>\n",
              "      <th>4</th>\n",
              "      <td>André Farinha Bósio</td>\n",
              "      <td>incricaodr</td>\n",
              "      <td>7980</td>\n",
              "      <td>UEM</td>\n",
              "      <td>farinha96br@gmail.com</td>\n",
              "      <td>Desejo concorrer à Bolsa</td>\n",
              "      <td>NaN</td>\n",
              "      <td>NaN</td>\n",
              "      <td>NaN</td>\n",
              "      <td>Nao</td>\n",
              "      <td>NaN</td>\n",
              "      <td>NaN</td>\n",
              "      <td>NaN</td>\n",
              "      <td>21/06/2020 - 22:23</td>\n",
              "    </tr>\n",
              "    <tr>\n",
              "      <th>...</th>\n",
              "      <td>...</td>\n",
              "      <td>...</td>\n",
              "      <td>...</td>\n",
              "      <td>...</td>\n",
              "      <td>...</td>\n",
              "      <td>...</td>\n",
              "      <td>...</td>\n",
              "      <td>...</td>\n",
              "      <td>...</td>\n",
              "      <td>...</td>\n",
              "      <td>...</td>\n",
              "      <td>...</td>\n",
              "      <td>...</td>\n",
              "      <td>...</td>\n",
              "    </tr>\n",
              "    <tr>\n",
              "      <th>57</th>\n",
              "      <td>Adriane Maria de Carvalho</td>\n",
              "      <td>inscricaomd</td>\n",
              "      <td>7845</td>\n",
              "      <td>UECE</td>\n",
              "      <td>adriane.carvalho@aluno.uece.br</td>\n",
              "      <td>Desejo concorrer à Bolsa</td>\n",
              "      <td>NaN</td>\n",
              "      <td>NaN</td>\n",
              "      <td>NaN</td>\n",
              "      <td>Nao</td>\n",
              "      <td>NaN</td>\n",
              "      <td>NaN</td>\n",
              "      <td>NaN</td>\n",
              "      <td>09/06/2020 - 17:23</td>\n",
              "    </tr>\n",
              "    <tr>\n",
              "      <th>58</th>\n",
              "      <td>Carlos Alberto Silva</td>\n",
              "      <td>inscricaomd</td>\n",
              "      <td>7844</td>\n",
              "      <td>UNIFEI</td>\n",
              "      <td>carlosatibaia@uol.com.br</td>\n",
              "      <td>Não desejo concorrer à Bolsa</td>\n",
              "      <td>NaN</td>\n",
              "      <td>NaN</td>\n",
              "      <td>NaN</td>\n",
              "      <td>Nao</td>\n",
              "      <td>NaN</td>\n",
              "      <td>NaN</td>\n",
              "      <td>NaN</td>\n",
              "      <td>09/06/2020 - 17:21</td>\n",
              "    </tr>\n",
              "    <tr>\n",
              "      <th>59</th>\n",
              "      <td>Alan Müller</td>\n",
              "      <td>inscricaomd</td>\n",
              "      <td>7840</td>\n",
              "      <td>IFUSP</td>\n",
              "      <td>alan.muller26@gmail.com</td>\n",
              "      <td>Desejo concorrer à Bolsa</td>\n",
              "      <td>NaN</td>\n",
              "      <td>NaN</td>\n",
              "      <td>NaN</td>\n",
              "      <td>Nao</td>\n",
              "      <td>NaN</td>\n",
              "      <td>NaN</td>\n",
              "      <td>Deve colar grau até início de 08/2020.</td>\n",
              "      <td>09/06/2020 - 03:25</td>\n",
              "    </tr>\n",
              "    <tr>\n",
              "      <th>60</th>\n",
              "      <td>Thiago de Lima Campos</td>\n",
              "      <td>inscricaomd</td>\n",
              "      <td>7839</td>\n",
              "      <td>ME no IFUSP</td>\n",
              "      <td>tdlimacampos@gmail.com</td>\n",
              "      <td>Desejo concorrer à Bolsa</td>\n",
              "      <td>NaN</td>\n",
              "      <td>NaN</td>\n",
              "      <td>Carlos Molina Mendes</td>\n",
              "      <td>Nao</td>\n",
              "      <td>Sim</td>\n",
              "      <td>Sim</td>\n",
              "      <td>Já está no ME, deseja concorrer à bolsa. Será ...</td>\n",
              "      <td>08/06/2020 - 21:35</td>\n",
              "    </tr>\n",
              "    <tr>\n",
              "      <th>61</th>\n",
              "      <td>Emanuel Wallison de Oliveira Costa</td>\n",
              "      <td>incricaodr</td>\n",
              "      <td>7838</td>\n",
              "      <td>UFPB</td>\n",
              "      <td>wallisonareial@gmail.com</td>\n",
              "      <td>Desejo concorrer à Bolsa</td>\n",
              "      <td>NaN</td>\n",
              "      <td>NaN</td>\n",
              "      <td>NaN</td>\n",
              "      <td>Nao</td>\n",
              "      <td>NaN</td>\n",
              "      <td>NaN</td>\n",
              "      <td>NaN</td>\n",
              "      <td>07/06/2020 - 16:56</td>\n",
              "    </tr>\n",
              "  </tbody>\n",
              "</table>\n",
              "<p>62 rows × 14 columns</p>\n",
              "</div>"
            ],
            "text/plain": [
              "                                  Nome  ...       Data de Envio\n",
              "0                     Yuri Dias França  ...  22/06/2020 - 00:01\n",
              "1                Gabriel Goulart Dimas  ...  21/06/2020 - 23:55\n",
              "2    Wellington Luiz dos Santos Araujo  ...  21/06/2020 - 23:08\n",
              "3            Marcos Vinicius de Moraes  ...  21/06/2020 - 23:03\n",
              "4                  André Farinha Bósio  ...  21/06/2020 - 22:23\n",
              "..                                 ...  ...                 ...\n",
              "57           Adriane Maria de Carvalho  ...  09/06/2020 - 17:23\n",
              "58                Carlos Alberto Silva  ...  09/06/2020 - 17:21\n",
              "59                         Alan Müller  ...  09/06/2020 - 03:25\n",
              "60               Thiago de Lima Campos  ...  08/06/2020 - 21:35\n",
              "61  Emanuel Wallison de Oliveira Costa  ...  07/06/2020 - 16:56\n",
              "\n",
              "[62 rows x 14 columns]"
            ]
          },
          "metadata": {
            "tags": []
          },
          "execution_count": 8
        }
      ]
    },
    {
      "cell_type": "code",
      "metadata": {
        "id": "mLZa1_mOe_nn",
        "colab_type": "code",
        "colab": {
          "base_uri": "https://localhost:8080/",
          "height": 441
        },
        "outputId": "653f788b-f78c-44de-b15d-3248c890428b"
      },
      "source": [
        "# Metodo de importar arquivo GOOGLE DOCS (Sheet)\n",
        "# Planilha das notas do EUF\n",
        "url1 = 'https://docs.google.com/spreadsheets/d/1cgTJ2hxn4U2XUX_LRW_8I427mZ6s2tDzc99VVRJZaI8/edit#gid=0'\n",
        "wb1 = gc.open_by_url(url1)\n",
        "\n",
        "# Planilha das inscrições\n",
        "url2='https://docs.google.com/spreadsheets/d/1CEXvVbvbWEsjg25lcfiHauqGAaBcwgZeggkudD8KQFM/edit#gid=0'\n",
        "wb2 = gc.open_by_url(url2)\n",
        "\n",
        "sheet1 = wb1.worksheet('EUF 2020-1')\n",
        "sheet2 = wb2.worksheet('2020-1')\n",
        "data1 = sheet1.get_all_values()\n",
        "data2 = sheet2.get_all_values()\n",
        "df1 = pd.DataFrame(data1)\n",
        "df2 = pd.DataFrame(data2)"
      ],
      "execution_count": null,
      "outputs": [
        {
          "output_type": "error",
          "ename": "WorksheetNotFound",
          "evalue": "ignored",
          "traceback": [
            "\u001b[0;31m---------------------------------------------------------------------------\u001b[0m",
            "\u001b[0;31mStopIteration\u001b[0m                             Traceback (most recent call last)",
            "\u001b[0;32m/usr/local/lib/python3.6/dist-packages/gspread/models.py\u001b[0m in \u001b[0;36mworksheet\u001b[0;34m(self, title)\u001b[0m\n\u001b[1;32m    175\u001b[0m                 \u001b[0;32mlambda\u001b[0m \u001b[0mx\u001b[0m\u001b[0;34m:\u001b[0m \u001b[0mx\u001b[0m\u001b[0;34m[\u001b[0m\u001b[0;34m'properties'\u001b[0m\u001b[0;34m]\u001b[0m\u001b[0;34m[\u001b[0m\u001b[0;34m'title'\u001b[0m\u001b[0;34m]\u001b[0m \u001b[0;34m==\u001b[0m \u001b[0mtitle\u001b[0m\u001b[0;34m,\u001b[0m\u001b[0;34m\u001b[0m\u001b[0;34m\u001b[0m\u001b[0m\n\u001b[0;32m--> 176\u001b[0;31m                 \u001b[0msheet_data\u001b[0m\u001b[0;34m[\u001b[0m\u001b[0;34m'sheets'\u001b[0m\u001b[0;34m]\u001b[0m\u001b[0;34m\u001b[0m\u001b[0;34m\u001b[0m\u001b[0m\n\u001b[0m\u001b[1;32m    177\u001b[0m             )\n",
            "\u001b[0;32m/usr/local/lib/python3.6/dist-packages/gspread/utils.py\u001b[0m in \u001b[0;36mfinditem\u001b[0;34m(func, seq)\u001b[0m\n\u001b[1;32m     28\u001b[0m     \"\"\"\n\u001b[0;32m---> 29\u001b[0;31m     \u001b[0;32mreturn\u001b[0m \u001b[0mnext\u001b[0m\u001b[0;34m(\u001b[0m\u001b[0;34m(\u001b[0m\u001b[0mitem\u001b[0m \u001b[0;32mfor\u001b[0m \u001b[0mitem\u001b[0m \u001b[0;32min\u001b[0m \u001b[0mseq\u001b[0m \u001b[0;32mif\u001b[0m \u001b[0mfunc\u001b[0m\u001b[0;34m(\u001b[0m\u001b[0mitem\u001b[0m\u001b[0;34m)\u001b[0m\u001b[0;34m)\u001b[0m\u001b[0;34m)\u001b[0m\u001b[0;34m\u001b[0m\u001b[0;34m\u001b[0m\u001b[0m\n\u001b[0m\u001b[1;32m     30\u001b[0m \u001b[0;34m\u001b[0m\u001b[0m\n",
            "\u001b[0;31mStopIteration\u001b[0m: ",
            "\nDuring handling of the above exception, another exception occurred:\n",
            "\u001b[0;31mWorksheetNotFound\u001b[0m                         Traceback (most recent call last)",
            "\u001b[0;32m<ipython-input-12-22aadb0f2400>\u001b[0m in \u001b[0;36m<module>\u001b[0;34m()\u001b[0m\n\u001b[1;32m      9\u001b[0m \u001b[0;34m\u001b[0m\u001b[0m\n\u001b[1;32m     10\u001b[0m \u001b[0msheet1\u001b[0m \u001b[0;34m=\u001b[0m \u001b[0mwb1\u001b[0m\u001b[0;34m.\u001b[0m\u001b[0mworksheet\u001b[0m\u001b[0;34m(\u001b[0m\u001b[0;34m'EUF 2020-1'\u001b[0m\u001b[0;34m)\u001b[0m\u001b[0;34m\u001b[0m\u001b[0;34m\u001b[0m\u001b[0m\n\u001b[0;32m---> 11\u001b[0;31m \u001b[0msheet2\u001b[0m \u001b[0;34m=\u001b[0m \u001b[0mwb2\u001b[0m\u001b[0;34m.\u001b[0m\u001b[0mworksheet\u001b[0m\u001b[0;34m(\u001b[0m\u001b[0;34m'2020-1'\u001b[0m\u001b[0;34m)\u001b[0m\u001b[0;34m\u001b[0m\u001b[0;34m\u001b[0m\u001b[0m\n\u001b[0m\u001b[1;32m     12\u001b[0m \u001b[0mdata1\u001b[0m \u001b[0;34m=\u001b[0m \u001b[0msheet1\u001b[0m\u001b[0;34m.\u001b[0m\u001b[0mget_all_values\u001b[0m\u001b[0;34m(\u001b[0m\u001b[0;34m)\u001b[0m\u001b[0;34m\u001b[0m\u001b[0;34m\u001b[0m\u001b[0m\n\u001b[1;32m     13\u001b[0m \u001b[0mdata2\u001b[0m \u001b[0;34m=\u001b[0m \u001b[0msheet2\u001b[0m\u001b[0;34m.\u001b[0m\u001b[0mget_all_values\u001b[0m\u001b[0;34m(\u001b[0m\u001b[0;34m)\u001b[0m\u001b[0;34m\u001b[0m\u001b[0;34m\u001b[0m\u001b[0m\n",
            "\u001b[0;32m/usr/local/lib/python3.6/dist-packages/gspread/models.py\u001b[0m in \u001b[0;36mworksheet\u001b[0;34m(self, title)\u001b[0m\n\u001b[1;32m    178\u001b[0m             \u001b[0;32mreturn\u001b[0m \u001b[0mWorksheet\u001b[0m\u001b[0;34m(\u001b[0m\u001b[0mself\u001b[0m\u001b[0;34m,\u001b[0m \u001b[0mitem\u001b[0m\u001b[0;34m[\u001b[0m\u001b[0;34m'properties'\u001b[0m\u001b[0;34m]\u001b[0m\u001b[0;34m)\u001b[0m\u001b[0;34m\u001b[0m\u001b[0;34m\u001b[0m\u001b[0m\n\u001b[1;32m    179\u001b[0m         \u001b[0;32mexcept\u001b[0m \u001b[0;34m(\u001b[0m\u001b[0mStopIteration\u001b[0m\u001b[0;34m,\u001b[0m \u001b[0mKeyError\u001b[0m\u001b[0;34m)\u001b[0m\u001b[0;34m:\u001b[0m\u001b[0;34m\u001b[0m\u001b[0;34m\u001b[0m\u001b[0m\n\u001b[0;32m--> 180\u001b[0;31m             \u001b[0;32mraise\u001b[0m \u001b[0mWorksheetNotFound\u001b[0m\u001b[0;34m(\u001b[0m\u001b[0mtitle\u001b[0m\u001b[0;34m)\u001b[0m\u001b[0;34m\u001b[0m\u001b[0;34m\u001b[0m\u001b[0m\n\u001b[0m\u001b[1;32m    181\u001b[0m \u001b[0;34m\u001b[0m\u001b[0m\n\u001b[1;32m    182\u001b[0m     \u001b[0;32mdef\u001b[0m \u001b[0madd_worksheet\u001b[0m\u001b[0;34m(\u001b[0m\u001b[0mself\u001b[0m\u001b[0;34m,\u001b[0m \u001b[0mtitle\u001b[0m\u001b[0;34m,\u001b[0m \u001b[0mrows\u001b[0m\u001b[0;34m,\u001b[0m \u001b[0mcols\u001b[0m\u001b[0;34m)\u001b[0m\u001b[0;34m:\u001b[0m\u001b[0;34m\u001b[0m\u001b[0;34m\u001b[0m\u001b[0m\n",
            "\u001b[0;31mWorksheetNotFound\u001b[0m: 2020-1"
          ]
        }
      ]
    },
    {
      "cell_type": "code",
      "metadata": {
        "id": "pQmi1GAL9GAL",
        "colab_type": "code",
        "colab": {
          "base_uri": "https://localhost:8080/",
          "height": 387
        },
        "outputId": "2fbff2a0-950d-46f6-b96e-f79ab8bd19b1"
      },
      "source": [
        "df1=PrimLinhaCab(df1)\n",
        "df2=PrimLinhaCab(df2)\n",
        "\n",
        "heads_s=['EUF CODE','Nome','Doc',\"Nº Doc\"]\n",
        "\n",
        "#LimparNumeros(df1)\n",
        "\n",
        "df1=Emfloat(df1,heads_s)\n",
        "\n",
        "# METADADOS\n",
        "df1.attrs={\n",
        "    'Base':'EUF 2020-1',\n",
        "    'Referência':'N/A',\n",
        "    'Origem':'Plataforma EUF'\n",
        "    }\n",
        "\n",
        "# METADADOS\n",
        "df2.attrs={\n",
        "    'Base':'EUF 2020-1',\n",
        "    'Referência':'N/A',\n",
        "    'Origem':'CPGpar'\n",
        "    }"
      ],
      "execution_count": null,
      "outputs": [
        {
          "output_type": "error",
          "ename": "ValueError",
          "evalue": "ignored",
          "traceback": [
            "\u001b[0;31m---------------------------------------------------------------------------\u001b[0m",
            "\u001b[0;31mValueError\u001b[0m                                Traceback (most recent call last)",
            "\u001b[0;32m<ipython-input-11-de221900aa98>\u001b[0m in \u001b[0;36m<module>\u001b[0;34m()\u001b[0m\n\u001b[1;32m      6\u001b[0m \u001b[0;31m#LimparNumeros(df1)\u001b[0m\u001b[0;34m\u001b[0m\u001b[0;34m\u001b[0m\u001b[0;34m\u001b[0m\u001b[0m\n\u001b[1;32m      7\u001b[0m \u001b[0;34m\u001b[0m\u001b[0m\n\u001b[0;32m----> 8\u001b[0;31m \u001b[0mdf1\u001b[0m\u001b[0;34m=\u001b[0m\u001b[0mEmfloat\u001b[0m\u001b[0;34m(\u001b[0m\u001b[0mdf1\u001b[0m\u001b[0;34m,\u001b[0m\u001b[0mheads_s\u001b[0m\u001b[0;34m)\u001b[0m\u001b[0;34m\u001b[0m\u001b[0;34m\u001b[0m\u001b[0m\n\u001b[0m\u001b[1;32m      9\u001b[0m \u001b[0;34m\u001b[0m\u001b[0m\n\u001b[1;32m     10\u001b[0m \u001b[0;31m# METADADOS\u001b[0m\u001b[0;34m\u001b[0m\u001b[0;34m\u001b[0m\u001b[0;34m\u001b[0m\u001b[0m\n",
            "\u001b[0;32m<ipython-input-3-0b53a3ddf8ce>\u001b[0m in \u001b[0;36mEmfloat\u001b[0;34m(df, heads_s)\u001b[0m\n\u001b[1;32m     35\u001b[0m \u001b[0;34m\u001b[0m\u001b[0m\n\u001b[1;32m     36\u001b[0m   \u001b[0;32mfor\u001b[0m \u001b[0mhead\u001b[0m \u001b[0;32min\u001b[0m \u001b[0mhead_n_str\u001b[0m\u001b[0;34m:\u001b[0m\u001b[0;34m\u001b[0m\u001b[0;34m\u001b[0m\u001b[0m\n\u001b[0;32m---> 37\u001b[0;31m     \u001b[0mdicio\u001b[0m\u001b[0;34m[\u001b[0m\u001b[0mhead\u001b[0m\u001b[0;34m]\u001b[0m\u001b[0;34m=\u001b[0m\u001b[0mdf\u001b[0m\u001b[0;34m[\u001b[0m\u001b[0mhead\u001b[0m\u001b[0;34m]\u001b[0m\u001b[0;34m.\u001b[0m\u001b[0mastype\u001b[0m\u001b[0;34m(\u001b[0m\u001b[0mfloat\u001b[0m\u001b[0;34m)\u001b[0m\u001b[0;34m\u001b[0m\u001b[0;34m\u001b[0m\u001b[0m\n\u001b[0m\u001b[1;32m     38\u001b[0m   \u001b[0;32mreturn\u001b[0m \u001b[0mdf\u001b[0m\u001b[0;34m\u001b[0m\u001b[0;34m\u001b[0m\u001b[0m\n\u001b[1;32m     39\u001b[0m \u001b[0;34m\u001b[0m\u001b[0m\n",
            "\u001b[0;32m/usr/local/lib/python3.6/dist-packages/pandas/core/generic.py\u001b[0m in \u001b[0;36mastype\u001b[0;34m(self, dtype, copy, errors)\u001b[0m\n\u001b[1;32m   5696\u001b[0m         \u001b[0;32melse\u001b[0m\u001b[0;34m:\u001b[0m\u001b[0;34m\u001b[0m\u001b[0;34m\u001b[0m\u001b[0m\n\u001b[1;32m   5697\u001b[0m             \u001b[0;31m# else, only a single dtype is given\u001b[0m\u001b[0;34m\u001b[0m\u001b[0;34m\u001b[0m\u001b[0;34m\u001b[0m\u001b[0m\n\u001b[0;32m-> 5698\u001b[0;31m             \u001b[0mnew_data\u001b[0m \u001b[0;34m=\u001b[0m \u001b[0mself\u001b[0m\u001b[0;34m.\u001b[0m\u001b[0m_data\u001b[0m\u001b[0;34m.\u001b[0m\u001b[0mastype\u001b[0m\u001b[0;34m(\u001b[0m\u001b[0mdtype\u001b[0m\u001b[0;34m=\u001b[0m\u001b[0mdtype\u001b[0m\u001b[0;34m,\u001b[0m \u001b[0mcopy\u001b[0m\u001b[0;34m=\u001b[0m\u001b[0mcopy\u001b[0m\u001b[0;34m,\u001b[0m \u001b[0merrors\u001b[0m\u001b[0;34m=\u001b[0m\u001b[0merrors\u001b[0m\u001b[0;34m)\u001b[0m\u001b[0;34m\u001b[0m\u001b[0;34m\u001b[0m\u001b[0m\n\u001b[0m\u001b[1;32m   5699\u001b[0m             \u001b[0;32mreturn\u001b[0m \u001b[0mself\u001b[0m\u001b[0;34m.\u001b[0m\u001b[0m_constructor\u001b[0m\u001b[0;34m(\u001b[0m\u001b[0mnew_data\u001b[0m\u001b[0;34m)\u001b[0m\u001b[0;34m.\u001b[0m\u001b[0m__finalize__\u001b[0m\u001b[0;34m(\u001b[0m\u001b[0mself\u001b[0m\u001b[0;34m)\u001b[0m\u001b[0;34m\u001b[0m\u001b[0;34m\u001b[0m\u001b[0m\n\u001b[1;32m   5700\u001b[0m \u001b[0;34m\u001b[0m\u001b[0m\n",
            "\u001b[0;32m/usr/local/lib/python3.6/dist-packages/pandas/core/internals/managers.py\u001b[0m in \u001b[0;36mastype\u001b[0;34m(self, dtype, copy, errors)\u001b[0m\n\u001b[1;32m    580\u001b[0m \u001b[0;34m\u001b[0m\u001b[0m\n\u001b[1;32m    581\u001b[0m     \u001b[0;32mdef\u001b[0m \u001b[0mastype\u001b[0m\u001b[0;34m(\u001b[0m\u001b[0mself\u001b[0m\u001b[0;34m,\u001b[0m \u001b[0mdtype\u001b[0m\u001b[0;34m,\u001b[0m \u001b[0mcopy\u001b[0m\u001b[0;34m:\u001b[0m \u001b[0mbool\u001b[0m \u001b[0;34m=\u001b[0m \u001b[0;32mFalse\u001b[0m\u001b[0;34m,\u001b[0m \u001b[0merrors\u001b[0m\u001b[0;34m:\u001b[0m \u001b[0mstr\u001b[0m \u001b[0;34m=\u001b[0m \u001b[0;34m\"raise\"\u001b[0m\u001b[0;34m)\u001b[0m\u001b[0;34m:\u001b[0m\u001b[0;34m\u001b[0m\u001b[0;34m\u001b[0m\u001b[0m\n\u001b[0;32m--> 582\u001b[0;31m         \u001b[0;32mreturn\u001b[0m \u001b[0mself\u001b[0m\u001b[0;34m.\u001b[0m\u001b[0mapply\u001b[0m\u001b[0;34m(\u001b[0m\u001b[0;34m\"astype\"\u001b[0m\u001b[0;34m,\u001b[0m \u001b[0mdtype\u001b[0m\u001b[0;34m=\u001b[0m\u001b[0mdtype\u001b[0m\u001b[0;34m,\u001b[0m \u001b[0mcopy\u001b[0m\u001b[0;34m=\u001b[0m\u001b[0mcopy\u001b[0m\u001b[0;34m,\u001b[0m \u001b[0merrors\u001b[0m\u001b[0;34m=\u001b[0m\u001b[0merrors\u001b[0m\u001b[0;34m)\u001b[0m\u001b[0;34m\u001b[0m\u001b[0;34m\u001b[0m\u001b[0m\n\u001b[0m\u001b[1;32m    583\u001b[0m \u001b[0;34m\u001b[0m\u001b[0m\n\u001b[1;32m    584\u001b[0m     \u001b[0;32mdef\u001b[0m \u001b[0mconvert\u001b[0m\u001b[0;34m(\u001b[0m\u001b[0mself\u001b[0m\u001b[0;34m,\u001b[0m \u001b[0;34m**\u001b[0m\u001b[0mkwargs\u001b[0m\u001b[0;34m)\u001b[0m\u001b[0;34m:\u001b[0m\u001b[0;34m\u001b[0m\u001b[0;34m\u001b[0m\u001b[0m\n",
            "\u001b[0;32m/usr/local/lib/python3.6/dist-packages/pandas/core/internals/managers.py\u001b[0m in \u001b[0;36mapply\u001b[0;34m(self, f, filter, **kwargs)\u001b[0m\n\u001b[1;32m    440\u001b[0m                 \u001b[0mapplied\u001b[0m \u001b[0;34m=\u001b[0m \u001b[0mb\u001b[0m\u001b[0;34m.\u001b[0m\u001b[0mapply\u001b[0m\u001b[0;34m(\u001b[0m\u001b[0mf\u001b[0m\u001b[0;34m,\u001b[0m \u001b[0;34m**\u001b[0m\u001b[0mkwargs\u001b[0m\u001b[0;34m)\u001b[0m\u001b[0;34m\u001b[0m\u001b[0;34m\u001b[0m\u001b[0m\n\u001b[1;32m    441\u001b[0m             \u001b[0;32melse\u001b[0m\u001b[0;34m:\u001b[0m\u001b[0;34m\u001b[0m\u001b[0;34m\u001b[0m\u001b[0m\n\u001b[0;32m--> 442\u001b[0;31m                 \u001b[0mapplied\u001b[0m \u001b[0;34m=\u001b[0m \u001b[0mgetattr\u001b[0m\u001b[0;34m(\u001b[0m\u001b[0mb\u001b[0m\u001b[0;34m,\u001b[0m \u001b[0mf\u001b[0m\u001b[0;34m)\u001b[0m\u001b[0;34m(\u001b[0m\u001b[0;34m**\u001b[0m\u001b[0mkwargs\u001b[0m\u001b[0;34m)\u001b[0m\u001b[0;34m\u001b[0m\u001b[0;34m\u001b[0m\u001b[0m\n\u001b[0m\u001b[1;32m    443\u001b[0m             \u001b[0mresult_blocks\u001b[0m \u001b[0;34m=\u001b[0m \u001b[0m_extend_blocks\u001b[0m\u001b[0;34m(\u001b[0m\u001b[0mapplied\u001b[0m\u001b[0;34m,\u001b[0m \u001b[0mresult_blocks\u001b[0m\u001b[0;34m)\u001b[0m\u001b[0;34m\u001b[0m\u001b[0;34m\u001b[0m\u001b[0m\n\u001b[1;32m    444\u001b[0m \u001b[0;34m\u001b[0m\u001b[0m\n",
            "\u001b[0;32m/usr/local/lib/python3.6/dist-packages/pandas/core/internals/blocks.py\u001b[0m in \u001b[0;36mastype\u001b[0;34m(self, dtype, copy, errors)\u001b[0m\n\u001b[1;32m    623\u001b[0m             \u001b[0mvals1d\u001b[0m \u001b[0;34m=\u001b[0m \u001b[0mvalues\u001b[0m\u001b[0;34m.\u001b[0m\u001b[0mravel\u001b[0m\u001b[0;34m(\u001b[0m\u001b[0;34m)\u001b[0m\u001b[0;34m\u001b[0m\u001b[0;34m\u001b[0m\u001b[0m\n\u001b[1;32m    624\u001b[0m             \u001b[0;32mtry\u001b[0m\u001b[0;34m:\u001b[0m\u001b[0;34m\u001b[0m\u001b[0;34m\u001b[0m\u001b[0m\n\u001b[0;32m--> 625\u001b[0;31m                 \u001b[0mvalues\u001b[0m \u001b[0;34m=\u001b[0m \u001b[0mastype_nansafe\u001b[0m\u001b[0;34m(\u001b[0m\u001b[0mvals1d\u001b[0m\u001b[0;34m,\u001b[0m \u001b[0mdtype\u001b[0m\u001b[0;34m,\u001b[0m \u001b[0mcopy\u001b[0m\u001b[0;34m=\u001b[0m\u001b[0;32mTrue\u001b[0m\u001b[0;34m)\u001b[0m\u001b[0;34m\u001b[0m\u001b[0;34m\u001b[0m\u001b[0m\n\u001b[0m\u001b[1;32m    626\u001b[0m             \u001b[0;32mexcept\u001b[0m \u001b[0;34m(\u001b[0m\u001b[0mValueError\u001b[0m\u001b[0;34m,\u001b[0m \u001b[0mTypeError\u001b[0m\u001b[0;34m)\u001b[0m\u001b[0;34m:\u001b[0m\u001b[0;34m\u001b[0m\u001b[0;34m\u001b[0m\u001b[0m\n\u001b[1;32m    627\u001b[0m                 \u001b[0;31m# e.g. astype_nansafe can fail on object-dtype of strings\u001b[0m\u001b[0;34m\u001b[0m\u001b[0;34m\u001b[0m\u001b[0;34m\u001b[0m\u001b[0m\n",
            "\u001b[0;32m/usr/local/lib/python3.6/dist-packages/pandas/core/dtypes/cast.py\u001b[0m in \u001b[0;36mastype_nansafe\u001b[0;34m(arr, dtype, copy, skipna)\u001b[0m\n\u001b[1;32m    895\u001b[0m     \u001b[0;32mif\u001b[0m \u001b[0mcopy\u001b[0m \u001b[0;32mor\u001b[0m \u001b[0mis_object_dtype\u001b[0m\u001b[0;34m(\u001b[0m\u001b[0marr\u001b[0m\u001b[0;34m)\u001b[0m \u001b[0;32mor\u001b[0m \u001b[0mis_object_dtype\u001b[0m\u001b[0;34m(\u001b[0m\u001b[0mdtype\u001b[0m\u001b[0;34m)\u001b[0m\u001b[0;34m:\u001b[0m\u001b[0;34m\u001b[0m\u001b[0;34m\u001b[0m\u001b[0m\n\u001b[1;32m    896\u001b[0m         \u001b[0;31m# Explicit copy, or required since NumPy can't view from / to object.\u001b[0m\u001b[0;34m\u001b[0m\u001b[0;34m\u001b[0m\u001b[0;34m\u001b[0m\u001b[0m\n\u001b[0;32m--> 897\u001b[0;31m         \u001b[0;32mreturn\u001b[0m \u001b[0marr\u001b[0m\u001b[0;34m.\u001b[0m\u001b[0mastype\u001b[0m\u001b[0;34m(\u001b[0m\u001b[0mdtype\u001b[0m\u001b[0;34m,\u001b[0m \u001b[0mcopy\u001b[0m\u001b[0;34m=\u001b[0m\u001b[0;32mTrue\u001b[0m\u001b[0;34m)\u001b[0m\u001b[0;34m\u001b[0m\u001b[0;34m\u001b[0m\u001b[0m\n\u001b[0m\u001b[1;32m    898\u001b[0m \u001b[0;34m\u001b[0m\u001b[0m\n\u001b[1;32m    899\u001b[0m     \u001b[0;32mreturn\u001b[0m \u001b[0marr\u001b[0m\u001b[0;34m.\u001b[0m\u001b[0mview\u001b[0m\u001b[0;34m(\u001b[0m\u001b[0mdtype\u001b[0m\u001b[0;34m)\u001b[0m\u001b[0;34m\u001b[0m\u001b[0;34m\u001b[0m\u001b[0m\n",
            "\u001b[0;31mValueError\u001b[0m: could not convert string to float: '2,75'"
          ]
        }
      ]
    },
    {
      "cell_type": "code",
      "metadata": {
        "id": "Nt_ahWUSAqPW",
        "colab_type": "code",
        "colab": {}
      },
      "source": [
        "df2.index=df2.Nome.map(lambda x: fuzzy(x, df1.Nome)"
      ],
      "execution_count": null,
      "outputs": []
    },
    {
      "cell_type": "markdown",
      "metadata": {
        "id": "d-I_VQmX9Z_K",
        "colab_type": "text"
      },
      "source": [
        "# Ajeitando DataFrames\n",
        "---"
      ]
    },
    {
      "cell_type": "code",
      "metadata": {
        "id": "TuQ2Bea39vXP",
        "colab_type": "code",
        "colab": {}
      },
      "source": [
        "heads=df.columns.tolist()\n",
        "heads_strings=['EUF CODE','Nome','Doc',\"Nº Doc\"]\n",
        "head_n_str=[item for item in heads if item not in heads_strings]\n",
        "dicio={}\n",
        "\n",
        "for head in head_n_str:\n",
        "  dicio[head]=df[head].astype(float)\n"
      ],
      "execution_count": null,
      "outputs": []
    },
    {
      "cell_type": "markdown",
      "metadata": {
        "id": "MTgXNybL6vu8",
        "colab_type": "text"
      },
      "source": [
        "# Testes com Fuzzy\n",
        "---"
      ]
    },
    {
      "cell_type": "code",
      "metadata": {
        "id": "VyC5x1iQAjlW",
        "colab_type": "code",
        "colab": {
          "base_uri": "https://localhost:8080/",
          "height": 34
        },
        "outputId": "33d5392e-0cdc-4e61-f46f-f117ab20f08f"
      },
      "source": [
        "a= \"Marlon Resende Faria\"\n",
        "b= \"Marlon Rezende Faria\"\n",
        "c= \"Martlon R Faria\"\n",
        "d= \"Marlon Faria\"\n",
        "a1= \"Marlon Faria\"\n",
        "b1= \"Marlon Faria\"\n",
        "c1= \"Marlon Faria\"\n",
        "\n",
        "fuzz.ratio(c, d)"
      ],
      "execution_count": null,
      "outputs": [
        {
          "output_type": "execute_result",
          "data": {
            "text/plain": [
              "89"
            ]
          },
          "metadata": {
            "tags": []
          },
          "execution_count": 9
        }
      ]
    },
    {
      "cell_type": "code",
      "metadata": {
        "id": "pZ-rm4kaPl61",
        "colab_type": "code",
        "colab": {}
      },
      "source": [
        "def FuzzyCoef(a,b,printar=False,testar=False):\n",
        "  r=fuzz.ratio(a, b)\n",
        "  pr=fuzz.partial_ratio(a, b)\n",
        "  tsor=fuzz.token_sort_ratio(a, b)\n",
        "  tser=fuzz.token_set_ratio(a, d)\n",
        "  if testar==True:\n",
        "    if r+pr+tsor+tser<200:\n",
        "      return False\n",
        "    else:\n",
        "      return True\n",
        "  if printar==True:\n",
        "    print(\n",
        "        'Ratio:',r,'\\n'\n",
        "        'Partial Ration:',pr,'\\n'\n",
        "        'Token Sort Ratio:',tsor,'\\n'\n",
        "        'Token Set Ration',tser,'\\n'\n",
        "          )\n",
        "          "
      ],
      "execution_count": null,
      "outputs": []
    },
    {
      "cell_type": "code",
      "metadata": {
        "id": "btDR7l_IPKJn",
        "colab_type": "code",
        "colab": {}
      },
      "source": [
        "a='Carlos Alberto Silva\t'\n",
        "b='Alexander Kopernik da Silva Guerreiro'\n",
        "c='Carlos Alberto Silva\t'\n",
        "d='Carlos Kopernik da Silva Guerreiro'"
      ],
      "execution_count": null,
      "outputs": []
    },
    {
      "cell_type": "code",
      "metadata": {
        "id": "KGEwh-ZVW1bC",
        "colab_type": "code",
        "colab": {}
      },
      "source": [
        "lista2=df1['Nome'].apply(lambda x: process.extractOne(x,df2['Nome']))\n",
        "lista2"
      ],
      "execution_count": null,
      "outputs": []
    },
    {
      "cell_type": "code",
      "metadata": {
        "id": "pI-1_6qmgoGi",
        "colab_type": "code",
        "colab": {}
      },
      "source": [
        "# df=df.drop(columns=['Apto','Nota Normalizada'])\n",
        "df2['Nome'][60]"
      ],
      "execution_count": null,
      "outputs": []
    },
    {
      "cell_type": "code",
      "metadata": {
        "id": "1oTV7YRmB6Ao",
        "colab_type": "code",
        "colab": {
          "base_uri": "https://localhost:8080/",
          "height": 167
        },
        "outputId": "e2d06931-b55f-4455-e860-ae1694dcd5c8"
      },
      "source": [
        "FuzzyCoef(a,d,printar=True)"
      ],
      "execution_count": null,
      "outputs": [
        {
          "output_type": "error",
          "ename": "NameError",
          "evalue": "ignored",
          "traceback": [
            "\u001b[0;31m---------------------------------------------------------------------------\u001b[0m",
            "\u001b[0;31mNameError\u001b[0m                                 Traceback (most recent call last)",
            "\u001b[0;32m<ipython-input-11-5fb948a1fb37>\u001b[0m in \u001b[0;36m<module>\u001b[0;34m()\u001b[0m\n\u001b[0;32m----> 1\u001b[0;31m \u001b[0mFuzzyCoef\u001b[0m\u001b[0;34m(\u001b[0m\u001b[0ma\u001b[0m\u001b[0;34m,\u001b[0m\u001b[0md\u001b[0m\u001b[0;34m,\u001b[0m\u001b[0mprintar\u001b[0m\u001b[0;34m=\u001b[0m\u001b[0;32mTrue\u001b[0m\u001b[0;34m)\u001b[0m\u001b[0;34m\u001b[0m\u001b[0;34m\u001b[0m\u001b[0m\n\u001b[0m",
            "\u001b[0;31mNameError\u001b[0m: name 'FuzzyCoef' is not defined"
          ]
        }
      ]
    },
    {
      "cell_type": "code",
      "metadata": {
        "id": "FP1JtX6BEU7U",
        "colab_type": "code",
        "colab": {}
      },
      "source": [
        "fuzz.partial_ratio(a, c)"
      ],
      "execution_count": null,
      "outputs": []
    },
    {
      "cell_type": "code",
      "metadata": {
        "id": "alVkKnc_EU-r",
        "colab_type": "code",
        "colab": {}
      },
      "source": [
        "fuzz.partial_ratio(a, d)"
      ],
      "execution_count": null,
      "outputs": []
    },
    {
      "cell_type": "code",
      "metadata": {
        "id": "0F4bF1ASB6Eb",
        "colab_type": "code",
        "colab": {
          "base_uri": "https://localhost:8080/",
          "height": 34
        },
        "outputId": "45f0006b-60d4-48fd-9a30-7a0480f31133"
      },
      "source": [
        "fuzz.token_sort_ratio(a, b)"
      ],
      "execution_count": null,
      "outputs": [
        {
          "output_type": "execute_result",
          "data": {
            "text/plain": [
              "49"
            ]
          },
          "metadata": {
            "tags": []
          },
          "execution_count": 21
        }
      ]
    },
    {
      "cell_type": "code",
      "metadata": {
        "id": "-rBI_SSDEitH",
        "colab_type": "code",
        "colab": {}
      },
      "source": [
        "fuzz.token_sort_ratio(a, c)"
      ],
      "execution_count": null,
      "outputs": []
    },
    {
      "cell_type": "code",
      "metadata": {
        "id": "H4c5mLQZEi1W",
        "colab_type": "code",
        "colab": {}
      },
      "source": [
        "fuzz.token_sort_ratio(a, d)"
      ],
      "execution_count": null,
      "outputs": []
    },
    {
      "cell_type": "code",
      "metadata": {
        "id": "4p5u-Bp5B6Hm",
        "colab_type": "code",
        "colab": {
          "base_uri": "https://localhost:8080/",
          "height": 34
        },
        "outputId": "f2a7a5f2-3755-4cdd-9815-10b17551d499"
      },
      "source": [
        "fuzz.token_set_ratio(a, b)"
      ],
      "execution_count": null,
      "outputs": [
        {
          "output_type": "execute_result",
          "data": {
            "text/plain": [
              "49"
            ]
          },
          "metadata": {
            "tags": []
          },
          "execution_count": 22
        }
      ]
    },
    {
      "cell_type": "code",
      "metadata": {
        "id": "xub91oIVEnmN",
        "colab_type": "code",
        "colab": {}
      },
      "source": [
        "fuzz.token_set_ratio(a, c)"
      ],
      "execution_count": null,
      "outputs": []
    },
    {
      "cell_type": "code",
      "metadata": {
        "id": "orfbYcI_Enth",
        "colab_type": "code",
        "colab": {}
      },
      "source": [
        "fuzz.token_set_ratio(a, d)"
      ],
      "execution_count": null,
      "outputs": []
    },
    {
      "cell_type": "code",
      "metadata": {
        "id": "AM3txLO20g4r",
        "colab_type": "code",
        "colab": {}
      },
      "source": [
        "a=FuzzyMatch(df2.Nome,df1.Nome)\n",
        "nome, coef, linha=a[1]"
      ],
      "execution_count": null,
      "outputs": []
    },
    {
      "cell_type": "code",
      "metadata": {
        "id": "LwyOHTbojJse",
        "colab_type": "code",
        "colab": {}
      },
      "source": [
        "linha"
      ],
      "execution_count": null,
      "outputs": []
    },
    {
      "cell_type": "code",
      "metadata": {
        "id": "XEvu7H651jhc",
        "colab_type": "code",
        "colab": {}
      },
      "source": [
        "df_fuzzy = pd.DataFrame(a, columns =['Nome', 'Coef_Exatidão', 'Nº Linha'])\n",
        "df_fuzzy\n",
        "nomes_errados = [x for x in df_fuzzy.Coef_Exatidão if x <100]\n",
        "len(nomes_errados)"
      ],
      "execution_count": null,
      "outputs": []
    },
    {
      "cell_type": "code",
      "metadata": {
        "id": "3zY-IOtcIwtj",
        "colab_type": "code",
        "colab": {}
      },
      "source": [
        "def FuzzyMatch(lista1,lista2):\n",
        "  lista=[]\n",
        "  lista_nome=[]\n",
        "  for linha in lista1:\n",
        "    lista.append(process.extractOne(linha, lista2)) # Retorna o nome, coeficiente, index no pandas\n",
        "    lista_nome.append(linha)\n",
        "  return lista"
      ],
      "execution_count": null,
      "outputs": []
    },
    {
      "cell_type": "code",
      "metadata": {
        "id": "igNO1IC-TZk8",
        "colab_type": "code",
        "colab": {
          "base_uri": "https://localhost:8080/",
          "height": 850
        },
        "outputId": "90344a48-e34b-4868-bbd5-3c3fed972e5e"
      },
      "source": [
        "def Fuzzy_Procv(df1,df2,key1,key2,key3=None):\n",
        "  lista=df2[key2].tolist()\n",
        "  lista2=df1[key1].apply(lambda x: process.extractOne(x,lista))\n",
        "  lista3=[]\n",
        "\n",
        "  if key3!=None:\n",
        "\n",
        "    for linha in lista:\n",
        "      nome,coef,posi=process.extractOne(linha,df1[key1])\n",
        "      if coef<100:\n",
        "        resultado=FuzzyCoef(linha,nome)\n",
        "        if resultado:\n",
        "          lista3.append(df2[key3][linha])\n",
        "    df1[key3][posi]=\n",
        "\n",
        "  df1['Match: Nome e correp.']=lista2\n",
        "\n",
        "  return df1\n",
        "\n",
        "Fuzzy_Procv(df_2020_1,df_EUF_2020_1,'Nome','Nome','Nota')"
      ],
      "execution_count": null,
      "outputs": [
        {
          "output_type": "error",
          "ename": "ValueError",
          "evalue": "ignored",
          "traceback": [
            "\u001b[0;31m---------------------------------------------------------------------------\u001b[0m",
            "\u001b[0;31mValueError\u001b[0m                                Traceback (most recent call last)",
            "\u001b[0;32m<ipython-input-52-d6abe478c830>\u001b[0m in \u001b[0;36m<module>\u001b[0;34m()\u001b[0m\n\u001b[1;32m     18\u001b[0m   \u001b[0;32mreturn\u001b[0m \u001b[0mdf1\u001b[0m\u001b[0;34m\u001b[0m\u001b[0;34m\u001b[0m\u001b[0m\n\u001b[1;32m     19\u001b[0m \u001b[0;34m\u001b[0m\u001b[0m\n\u001b[0;32m---> 20\u001b[0;31m \u001b[0mFuzzy_Procv\u001b[0m\u001b[0;34m(\u001b[0m\u001b[0mdf_2020_1\u001b[0m\u001b[0;34m,\u001b[0m\u001b[0mdf_EUF_2020_1\u001b[0m\u001b[0;34m,\u001b[0m\u001b[0;34m'Nome'\u001b[0m\u001b[0;34m,\u001b[0m\u001b[0;34m'Nome'\u001b[0m\u001b[0;34m,\u001b[0m\u001b[0;34m'Nota'\u001b[0m\u001b[0;34m)\u001b[0m\u001b[0;34m\u001b[0m\u001b[0;34m\u001b[0m\u001b[0m\n\u001b[0m",
            "\u001b[0;32m<ipython-input-52-d6abe478c830>\u001b[0m in \u001b[0;36mFuzzy_Procv\u001b[0;34m(df1, df2, key1, key2, key3)\u001b[0m\n\u001b[1;32m     12\u001b[0m         \u001b[0;32mif\u001b[0m \u001b[0mresultado\u001b[0m\u001b[0;34m:\u001b[0m\u001b[0;34m\u001b[0m\u001b[0;34m\u001b[0m\u001b[0m\n\u001b[1;32m     13\u001b[0m           \u001b[0mlista3\u001b[0m\u001b[0;34m.\u001b[0m\u001b[0mappend\u001b[0m\u001b[0;34m(\u001b[0m\u001b[0mdf2\u001b[0m\u001b[0;34m[\u001b[0m\u001b[0mkey3\u001b[0m\u001b[0;34m]\u001b[0m\u001b[0;34m[\u001b[0m\u001b[0mlinha\u001b[0m\u001b[0;34m]\u001b[0m\u001b[0;34m)\u001b[0m\u001b[0;34m\u001b[0m\u001b[0;34m\u001b[0m\u001b[0m\n\u001b[0;32m---> 14\u001b[0;31m     \u001b[0mdf1\u001b[0m\u001b[0;34m[\u001b[0m\u001b[0mkey3\u001b[0m\u001b[0;34m]\u001b[0m\u001b[0;34m=\u001b[0m\u001b[0mlista3\u001b[0m\u001b[0;34m\u001b[0m\u001b[0;34m\u001b[0m\u001b[0m\n\u001b[0m\u001b[1;32m     15\u001b[0m \u001b[0;34m\u001b[0m\u001b[0m\n\u001b[1;32m     16\u001b[0m   \u001b[0mdf1\u001b[0m\u001b[0;34m[\u001b[0m\u001b[0;34m'Match: Nome e correp.'\u001b[0m\u001b[0;34m]\u001b[0m\u001b[0;34m=\u001b[0m\u001b[0mlista2\u001b[0m\u001b[0;34m\u001b[0m\u001b[0;34m\u001b[0m\u001b[0m\n",
            "\u001b[0;32m/usr/local/lib/python3.6/dist-packages/pandas/core/frame.py\u001b[0m in \u001b[0;36m__setitem__\u001b[0;34m(self, key, value)\u001b[0m\n\u001b[1;32m   2936\u001b[0m         \u001b[0;32melse\u001b[0m\u001b[0;34m:\u001b[0m\u001b[0;34m\u001b[0m\u001b[0;34m\u001b[0m\u001b[0m\n\u001b[1;32m   2937\u001b[0m             \u001b[0;31m# set column\u001b[0m\u001b[0;34m\u001b[0m\u001b[0;34m\u001b[0m\u001b[0;34m\u001b[0m\u001b[0m\n\u001b[0;32m-> 2938\u001b[0;31m             \u001b[0mself\u001b[0m\u001b[0;34m.\u001b[0m\u001b[0m_set_item\u001b[0m\u001b[0;34m(\u001b[0m\u001b[0mkey\u001b[0m\u001b[0;34m,\u001b[0m \u001b[0mvalue\u001b[0m\u001b[0;34m)\u001b[0m\u001b[0;34m\u001b[0m\u001b[0;34m\u001b[0m\u001b[0m\n\u001b[0m\u001b[1;32m   2939\u001b[0m \u001b[0;34m\u001b[0m\u001b[0m\n\u001b[1;32m   2940\u001b[0m     \u001b[0;32mdef\u001b[0m \u001b[0m_setitem_slice\u001b[0m\u001b[0;34m(\u001b[0m\u001b[0mself\u001b[0m\u001b[0;34m,\u001b[0m \u001b[0mkey\u001b[0m\u001b[0;34m,\u001b[0m \u001b[0mvalue\u001b[0m\u001b[0;34m)\u001b[0m\u001b[0;34m:\u001b[0m\u001b[0;34m\u001b[0m\u001b[0;34m\u001b[0m\u001b[0m\n",
            "\u001b[0;32m/usr/local/lib/python3.6/dist-packages/pandas/core/frame.py\u001b[0m in \u001b[0;36m_set_item\u001b[0;34m(self, key, value)\u001b[0m\n\u001b[1;32m   2998\u001b[0m \u001b[0;34m\u001b[0m\u001b[0m\n\u001b[1;32m   2999\u001b[0m         \u001b[0mself\u001b[0m\u001b[0;34m.\u001b[0m\u001b[0m_ensure_valid_index\u001b[0m\u001b[0;34m(\u001b[0m\u001b[0mvalue\u001b[0m\u001b[0;34m)\u001b[0m\u001b[0;34m\u001b[0m\u001b[0;34m\u001b[0m\u001b[0m\n\u001b[0;32m-> 3000\u001b[0;31m         \u001b[0mvalue\u001b[0m \u001b[0;34m=\u001b[0m \u001b[0mself\u001b[0m\u001b[0;34m.\u001b[0m\u001b[0m_sanitize_column\u001b[0m\u001b[0;34m(\u001b[0m\u001b[0mkey\u001b[0m\u001b[0;34m,\u001b[0m \u001b[0mvalue\u001b[0m\u001b[0;34m)\u001b[0m\u001b[0;34m\u001b[0m\u001b[0;34m\u001b[0m\u001b[0m\n\u001b[0m\u001b[1;32m   3001\u001b[0m         \u001b[0mNDFrame\u001b[0m\u001b[0;34m.\u001b[0m\u001b[0m_set_item\u001b[0m\u001b[0;34m(\u001b[0m\u001b[0mself\u001b[0m\u001b[0;34m,\u001b[0m \u001b[0mkey\u001b[0m\u001b[0;34m,\u001b[0m \u001b[0mvalue\u001b[0m\u001b[0;34m)\u001b[0m\u001b[0;34m\u001b[0m\u001b[0;34m\u001b[0m\u001b[0m\n\u001b[1;32m   3002\u001b[0m \u001b[0;34m\u001b[0m\u001b[0m\n",
            "\u001b[0;32m/usr/local/lib/python3.6/dist-packages/pandas/core/frame.py\u001b[0m in \u001b[0;36m_sanitize_column\u001b[0;34m(self, key, value, broadcast)\u001b[0m\n\u001b[1;32m   3634\u001b[0m \u001b[0;34m\u001b[0m\u001b[0m\n\u001b[1;32m   3635\u001b[0m             \u001b[0;31m# turn me into an ndarray\u001b[0m\u001b[0;34m\u001b[0m\u001b[0;34m\u001b[0m\u001b[0;34m\u001b[0m\u001b[0m\n\u001b[0;32m-> 3636\u001b[0;31m             \u001b[0mvalue\u001b[0m \u001b[0;34m=\u001b[0m \u001b[0msanitize_index\u001b[0m\u001b[0;34m(\u001b[0m\u001b[0mvalue\u001b[0m\u001b[0;34m,\u001b[0m \u001b[0mself\u001b[0m\u001b[0;34m.\u001b[0m\u001b[0mindex\u001b[0m\u001b[0;34m,\u001b[0m \u001b[0mcopy\u001b[0m\u001b[0;34m=\u001b[0m\u001b[0;32mFalse\u001b[0m\u001b[0;34m)\u001b[0m\u001b[0;34m\u001b[0m\u001b[0;34m\u001b[0m\u001b[0m\n\u001b[0m\u001b[1;32m   3637\u001b[0m             \u001b[0;32mif\u001b[0m \u001b[0;32mnot\u001b[0m \u001b[0misinstance\u001b[0m\u001b[0;34m(\u001b[0m\u001b[0mvalue\u001b[0m\u001b[0;34m,\u001b[0m \u001b[0;34m(\u001b[0m\u001b[0mnp\u001b[0m\u001b[0;34m.\u001b[0m\u001b[0mndarray\u001b[0m\u001b[0;34m,\u001b[0m \u001b[0mIndex\u001b[0m\u001b[0;34m)\u001b[0m\u001b[0;34m)\u001b[0m\u001b[0;34m:\u001b[0m\u001b[0;34m\u001b[0m\u001b[0;34m\u001b[0m\u001b[0m\n\u001b[1;32m   3638\u001b[0m                 \u001b[0;32mif\u001b[0m \u001b[0misinstance\u001b[0m\u001b[0;34m(\u001b[0m\u001b[0mvalue\u001b[0m\u001b[0;34m,\u001b[0m \u001b[0mlist\u001b[0m\u001b[0;34m)\u001b[0m \u001b[0;32mand\u001b[0m \u001b[0mlen\u001b[0m\u001b[0;34m(\u001b[0m\u001b[0mvalue\u001b[0m\u001b[0;34m)\u001b[0m \u001b[0;34m>\u001b[0m \u001b[0;36m0\u001b[0m\u001b[0;34m:\u001b[0m\u001b[0;34m\u001b[0m\u001b[0;34m\u001b[0m\u001b[0m\n",
            "\u001b[0;32m/usr/local/lib/python3.6/dist-packages/pandas/core/internals/construction.py\u001b[0m in \u001b[0;36msanitize_index\u001b[0;34m(data, index, copy)\u001b[0m\n\u001b[1;32m    609\u001b[0m \u001b[0;34m\u001b[0m\u001b[0m\n\u001b[1;32m    610\u001b[0m     \u001b[0;32mif\u001b[0m \u001b[0mlen\u001b[0m\u001b[0;34m(\u001b[0m\u001b[0mdata\u001b[0m\u001b[0;34m)\u001b[0m \u001b[0;34m!=\u001b[0m \u001b[0mlen\u001b[0m\u001b[0;34m(\u001b[0m\u001b[0mindex\u001b[0m\u001b[0;34m)\u001b[0m\u001b[0;34m:\u001b[0m\u001b[0;34m\u001b[0m\u001b[0;34m\u001b[0m\u001b[0m\n\u001b[0;32m--> 611\u001b[0;31m         \u001b[0;32mraise\u001b[0m \u001b[0mValueError\u001b[0m\u001b[0;34m(\u001b[0m\u001b[0;34m\"Length of values does not match length of index\"\u001b[0m\u001b[0;34m)\u001b[0m\u001b[0;34m\u001b[0m\u001b[0;34m\u001b[0m\u001b[0m\n\u001b[0m\u001b[1;32m    612\u001b[0m \u001b[0;34m\u001b[0m\u001b[0m\n\u001b[1;32m    613\u001b[0m     \u001b[0;32mif\u001b[0m \u001b[0misinstance\u001b[0m\u001b[0;34m(\u001b[0m\u001b[0mdata\u001b[0m\u001b[0;34m,\u001b[0m \u001b[0mABCIndexClass\u001b[0m\u001b[0;34m)\u001b[0m \u001b[0;32mand\u001b[0m \u001b[0;32mnot\u001b[0m \u001b[0mcopy\u001b[0m\u001b[0;34m:\u001b[0m\u001b[0;34m\u001b[0m\u001b[0;34m\u001b[0m\u001b[0m\n",
            "\u001b[0;31mValueError\u001b[0m: Length of values does not match length of index"
          ]
        }
      ]
    },
    {
      "cell_type": "code",
      "metadata": {
        "id": "B9NrEd97Y4jW",
        "colab_type": "code",
        "colab": {}
      },
      "source": [
        "lista=df1['Nome'].tolist()\n",
        "lista1=df2['Nome'].tolist()\n",
        "\n",
        "for linha in lista:\n",
        "  nome,coef,posi=process.extractOne(linha, lista1)\n",
        "  print(nome,coef,posi)"
      ],
      "execution_count": null,
      "outputs": []
    },
    {
      "cell_type": "code",
      "metadata": {
        "id": "4GzpO4XDSstl",
        "colab_type": "code",
        "colab": {}
      },
      "source": [
        "df1['Novo']=df2['Nome'].apply(lambda x: process.extractOne(x))"
      ],
      "execution_count": null,
      "outputs": []
    },
    {
      "cell_type": "code",
      "metadata": {
        "id": "oJqs_bTT-azc",
        "colab_type": "code",
        "colab": {}
      },
      "source": [
        "df1=\n",
        "head1=\n",
        "df2=\n",
        "head2=\n",
        "head_alvo=\n",
        "lista=[]\n",
        "for linha in lista1:\n",
        "  match=process.extractOne(linha, lista2)\n",
        "  for x in match:\n",
        "    nome=match[0]\n",
        "    coef=match[1]\n",
        "    posição=match[2]\n",
        "  lista_append(df2.head_alvo[coef])"
      ],
      "execution_count": null,
      "outputs": []
    },
    {
      "cell_type": "code",
      "metadata": {
        "id": "M14yb3Li_W7O",
        "colab_type": "code",
        "colab": {}
      },
      "source": [
        "lista=process.extract(\"andre\", df2['Nome'], limit=1)\n",
        "for nome in lista:\n",
        "    coef=nome[1]\n",
        "    posição=nome[2]\n",
        "return "
      ],
      "execution_count": null,
      "outputs": []
    },
    {
      "cell_type": "code",
      "metadata": {
        "id": "6Lc3V8MNmUWF",
        "colab_type": "code",
        "colab": {}
      },
      "source": [
        "# Correção dos variáveis dentro do Dataframe do Pandas\n",
        "# Usa paenas se o código acima não funcionar bem\n",
        "\n",
        "df.columns\n",
        "df_novo = {\n",
        "'Neighborhood Group': df['neighbourhood_group'].astype(str),\n",
        "'Neighborhood': df['neighbourhood'].astype(str),\n",
        "'Latitude': df['latitude'].astype(float),\n",
        "'Longitude': df['longitude'].astype(float),\n",
        "'Room Type': df['room_type'].astype(str),\n",
        "'Price': df['price'].astype(float),\n",
        "'Minimum Nights': df['minimum_nights'].astype(int),\n",
        "'Number of Reviews': df['number_of_reviews'].astype(int),\n",
        "'Reviews Per Month': df['reviews_per_month_new'].astype(float)\n",
        "}"
      ],
      "execution_count": null,
      "outputs": []
    },
    {
      "cell_type": "code",
      "metadata": {
        "id": "DaN5MrvW2H8m",
        "colab_type": "code",
        "colab": {}
      },
      "source": [
        "media=df['Nota'].mean()\n",
        "df['Nota Normalizada'] = df.apply(lambda linha: linha['Nota'] * 5/media, axis=1)"
      ],
      "execution_count": null,
      "outputs": []
    },
    {
      "cell_type": "code",
      "metadata": {
        "id": "MDz1qzPR3jqp",
        "colab_type": "code",
        "colab": {}
      },
      "source": [
        "df_bonus = pd.read_excel('/content/drive/My Drive/Dados/Notas EUF.xlsx')"
      ],
      "execution_count": null,
      "outputs": []
    },
    {
      "cell_type": "code",
      "metadata": {
        "id": "AJYk1h5ejISL",
        "colab_type": "code",
        "colab": {}
      },
      "source": [
        "# MULTIPLAS CONDIÇÕES PARA CLASSIFICAR UMA COLUNA \n",
        "conditions = [\n",
        "    (df['Set'] == 'Z') & (df['Type'] == 'A'),\n",
        "    (df['Set'] == 'Z') & (df['Type'] == 'B'),\n",
        "    (df['Type'] == 'B')]\n",
        "choices = ['yellow', 'blue', 'purple']\n",
        "df['color'] = np.select(conditions, choices, default='black')\n",
        "print(df)"
      ],
      "execution_count": null,
      "outputs": []
    },
    {
      "cell_type": "code",
      "metadata": {
        "id": "PUBgr0yV59Tj",
        "colab_type": "code",
        "colab": {}
      },
      "source": [
        "df_bonus['Nota']"
      ],
      "execution_count": null,
      "outputs": []
    },
    {
      "cell_type": "code",
      "metadata": {
        "id": "1kCBEbjtt3AI",
        "colab_type": "code",
        "colab": {}
      },
      "source": [
        "a=22/7\n",
        "a"
      ],
      "execution_count": null,
      "outputs": []
    },
    {
      "cell_type": "code",
      "metadata": {
        "id": "rR973saMt_mL",
        "colab_type": "code",
        "colab": {}
      },
      "source": [
        "import math\n",
        "math.pi"
      ],
      "execution_count": null,
      "outputs": []
    },
    {
      "cell_type": "markdown",
      "metadata": {
        "id": "EM0ed6iTfoaw",
        "colab_type": "text"
      },
      "source": [
        "# Referências\n",
        "\n",
        "https://medium.com/analytics-vidhya/colab-and-google-sheets-surprisingly-powerful-combination-for-data-science-part-1-bbbb11cbd8e\n",
        "\n",
        "https://stackoverflow.com/questions/19913659/pandas-conditional-creation-of-a-series-dataframe-column\n",
        "\n",
        "https://stackoverflow.com/questions/37926248/how-to-remove-accents-from-values-in-columns\n",
        "\n",
        "https://stackoverflow.com/questions/48376580/google-colab-how-to-read-data-from-my-google-drive\n",
        "\n",
        "https://towardsdatascience.com/3-ways-to-load-csv-files-into-colab-7c14fcbdcb92#:~:text=You%20should%20see%20a%20screen,select%20%E2%80%9CGet%20shareable%20link%E2%80%9D."
      ]
    }
  ]
}